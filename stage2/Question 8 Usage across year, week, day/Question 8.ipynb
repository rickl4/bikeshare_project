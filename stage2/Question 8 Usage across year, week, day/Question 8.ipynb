{
 "cells": [
  {
   "cell_type": "code",
   "execution_count": 42,
   "metadata": {},
   "outputs": [],
   "source": [
    "import pandas as pd\n",
    "import matplotlib as mpl\n",
    "import matplotlib.pyplot as plt\n",
    "import numpy as np"
   ]
  },
  {
   "cell_type": "markdown",
   "metadata": {},
   "source": [
    "# Import raw cycling Data"
   ]
  },
  {
   "cell_type": "code",
   "execution_count": 16,
   "metadata": {},
   "outputs": [
    {
     "name": "stderr",
     "output_type": "stream",
     "text": [
      "C:\\Users\\aliqm\\anaconda3\\lib\\site-packages\\IPython\\core\\interactiveshell.py:3146: DtypeWarning: Columns (11,23) have mixed types.Specify dtype option on import or set low_memory=False.\n",
      "  has_raised = await self.run_ast_nodes(code_ast.body, cell_name,\n"
     ]
    }
   ],
   "source": [
    "trips_raw = pd.read_csv('trips_raw_data.csv')"
   ]
  },
  {
   "cell_type": "markdown",
   "metadata": {},
   "source": [
    "## Explore data types and rows in trips_raw_data.csv"
   ]
  },
  {
   "cell_type": "code",
   "execution_count": 17,
   "metadata": {},
   "outputs": [
    {
     "name": "stdout",
     "output_type": "stream",
     "text": [
      "<class 'pandas.core.frame.DataFrame'>\n",
      "RangeIndex: 8039088 entries, 0 to 8039087\n",
      "Data columns (total 24 columns):\n",
      " #   Column               Dtype  \n",
      "---  ------               -----  \n",
      " 0   Unnamed: 0           int64  \n",
      " 1   Trip Id              int64  \n",
      " 2   Subscription Id      float64\n",
      " 3   Trip Duration        int64  \n",
      " 4   Start Station Id     float64\n",
      " 5   Start Time           object \n",
      " 6   Start Station Name   object \n",
      " 7   End Station Id       float64\n",
      " 8   End Time             object \n",
      " 9   End Station Name     object \n",
      " 10  Bike Id              float64\n",
      " 11  User Type            object \n",
      " 12  merge_time           object \n",
      " 13  Date/Time            object \n",
      " 14  Temp (°C)            float64\n",
      " 15  Dew Point Temp (°C)  float64\n",
      " 16  Rel Hum (%)          float64\n",
      " 17  Wind Dir (10s deg)   float64\n",
      " 18  Wind Spd (km/h)      float64\n",
      " 19  Visibility (km)      float64\n",
      " 20  Stn Press (kPa)      float64\n",
      " 21  Hmdx                 float64\n",
      " 22  Wind Chill           float64\n",
      " 23  Weather              object \n",
      "dtypes: float64(13), int64(3), object(8)\n",
      "memory usage: 1.4+ GB\n"
     ]
    }
   ],
   "source": [
    "trips_raw.info()"
   ]
  },
  {
   "cell_type": "code",
   "execution_count": 18,
   "metadata": {},
   "outputs": [
    {
     "data": {
      "text/html": [
       "<div>\n",
       "<style scoped>\n",
       "    .dataframe tbody tr th:only-of-type {\n",
       "        vertical-align: middle;\n",
       "    }\n",
       "\n",
       "    .dataframe tbody tr th {\n",
       "        vertical-align: top;\n",
       "    }\n",
       "\n",
       "    .dataframe thead th {\n",
       "        text-align: right;\n",
       "    }\n",
       "</style>\n",
       "<table border=\"1\" class=\"dataframe\">\n",
       "  <thead>\n",
       "    <tr style=\"text-align: right;\">\n",
       "      <th></th>\n",
       "      <th>Unnamed: 0</th>\n",
       "      <th>Trip Id</th>\n",
       "      <th>Subscription Id</th>\n",
       "      <th>Trip Duration</th>\n",
       "      <th>Start Station Id</th>\n",
       "      <th>Start Time</th>\n",
       "      <th>Start Station Name</th>\n",
       "      <th>End Station Id</th>\n",
       "      <th>End Time</th>\n",
       "      <th>End Station Name</th>\n",
       "      <th>...</th>\n",
       "      <th>Temp (°C)</th>\n",
       "      <th>Dew Point Temp (°C)</th>\n",
       "      <th>Rel Hum (%)</th>\n",
       "      <th>Wind Dir (10s deg)</th>\n",
       "      <th>Wind Spd (km/h)</th>\n",
       "      <th>Visibility (km)</th>\n",
       "      <th>Stn Press (kPa)</th>\n",
       "      <th>Hmdx</th>\n",
       "      <th>Wind Chill</th>\n",
       "      <th>Weather</th>\n",
       "    </tr>\n",
       "  </thead>\n",
       "  <tbody>\n",
       "    <tr>\n",
       "      <th>0</th>\n",
       "      <td>58</td>\n",
       "      <td>712441</td>\n",
       "      <td>NaN</td>\n",
       "      <td>274</td>\n",
       "      <td>7006.0</td>\n",
       "      <td>2017-01-01 00:03:00-05:00</td>\n",
       "      <td>Bay St / College St (East Side)</td>\n",
       "      <td>7021.0</td>\n",
       "      <td>2017-01-01 00:08:00-05:00</td>\n",
       "      <td>Bay St / Albert St</td>\n",
       "      <td>...</td>\n",
       "      <td>1.5</td>\n",
       "      <td>-3.6</td>\n",
       "      <td>69.0</td>\n",
       "      <td>26.0</td>\n",
       "      <td>39.0</td>\n",
       "      <td>16.1</td>\n",
       "      <td>99.81</td>\n",
       "      <td>NaN</td>\n",
       "      <td>NaN</td>\n",
       "      <td>NaN</td>\n",
       "    </tr>\n",
       "    <tr>\n",
       "      <th>1</th>\n",
       "      <td>59</td>\n",
       "      <td>712442</td>\n",
       "      <td>NaN</td>\n",
       "      <td>538</td>\n",
       "      <td>7046.0</td>\n",
       "      <td>2017-01-01 00:03:00-05:00</td>\n",
       "      <td>Niagara St / Richmond St W</td>\n",
       "      <td>7147.0</td>\n",
       "      <td>2017-01-01 00:12:00-05:00</td>\n",
       "      <td>King St W / Fraser Ave</td>\n",
       "      <td>...</td>\n",
       "      <td>1.5</td>\n",
       "      <td>-3.6</td>\n",
       "      <td>69.0</td>\n",
       "      <td>26.0</td>\n",
       "      <td>39.0</td>\n",
       "      <td>16.1</td>\n",
       "      <td>99.81</td>\n",
       "      <td>NaN</td>\n",
       "      <td>NaN</td>\n",
       "      <td>NaN</td>\n",
       "    </tr>\n",
       "    <tr>\n",
       "      <th>2</th>\n",
       "      <td>60</td>\n",
       "      <td>712443</td>\n",
       "      <td>NaN</td>\n",
       "      <td>992</td>\n",
       "      <td>7048.0</td>\n",
       "      <td>2017-01-01 00:05:00-05:00</td>\n",
       "      <td>Front St W / Yonge St (Hockey Hall of Fame)</td>\n",
       "      <td>7089.0</td>\n",
       "      <td>2017-01-01 00:22:00-05:00</td>\n",
       "      <td>Church St  / Wood St</td>\n",
       "      <td>...</td>\n",
       "      <td>1.5</td>\n",
       "      <td>-3.6</td>\n",
       "      <td>69.0</td>\n",
       "      <td>26.0</td>\n",
       "      <td>39.0</td>\n",
       "      <td>16.1</td>\n",
       "      <td>99.81</td>\n",
       "      <td>NaN</td>\n",
       "      <td>NaN</td>\n",
       "      <td>NaN</td>\n",
       "    </tr>\n",
       "    <tr>\n",
       "      <th>3</th>\n",
       "      <td>61</td>\n",
       "      <td>712444</td>\n",
       "      <td>NaN</td>\n",
       "      <td>1005</td>\n",
       "      <td>7177.0</td>\n",
       "      <td>2017-01-01 00:09:00-05:00</td>\n",
       "      <td>East Liberty St / Pirandello St</td>\n",
       "      <td>7202.0</td>\n",
       "      <td>2017-01-01 00:26:00-05:00</td>\n",
       "      <td>Queen St W / York St (City Hall)</td>\n",
       "      <td>...</td>\n",
       "      <td>1.5</td>\n",
       "      <td>-3.6</td>\n",
       "      <td>69.0</td>\n",
       "      <td>26.0</td>\n",
       "      <td>39.0</td>\n",
       "      <td>16.1</td>\n",
       "      <td>99.81</td>\n",
       "      <td>NaN</td>\n",
       "      <td>NaN</td>\n",
       "      <td>NaN</td>\n",
       "    </tr>\n",
       "    <tr>\n",
       "      <th>4</th>\n",
       "      <td>62</td>\n",
       "      <td>712445</td>\n",
       "      <td>NaN</td>\n",
       "      <td>645</td>\n",
       "      <td>7203.0</td>\n",
       "      <td>2017-01-01 00:14:00-05:00</td>\n",
       "      <td>Bathurst St/Queens Quay(Billy Bishop Airport)</td>\n",
       "      <td>7010.0</td>\n",
       "      <td>2017-01-01 00:25:00-05:00</td>\n",
       "      <td>King St W / Spadina Ave</td>\n",
       "      <td>...</td>\n",
       "      <td>1.5</td>\n",
       "      <td>-3.6</td>\n",
       "      <td>69.0</td>\n",
       "      <td>26.0</td>\n",
       "      <td>39.0</td>\n",
       "      <td>16.1</td>\n",
       "      <td>99.81</td>\n",
       "      <td>NaN</td>\n",
       "      <td>NaN</td>\n",
       "      <td>NaN</td>\n",
       "    </tr>\n",
       "  </tbody>\n",
       "</table>\n",
       "<p>5 rows × 24 columns</p>\n",
       "</div>"
      ],
      "text/plain": [
       "   Unnamed: 0  Trip Id  Subscription Id  Trip Duration  Start Station Id  \\\n",
       "0          58   712441              NaN            274            7006.0   \n",
       "1          59   712442              NaN            538            7046.0   \n",
       "2          60   712443              NaN            992            7048.0   \n",
       "3          61   712444              NaN           1005            7177.0   \n",
       "4          62   712445              NaN            645            7203.0   \n",
       "\n",
       "                  Start Time                             Start Station Name  \\\n",
       "0  2017-01-01 00:03:00-05:00                Bay St / College St (East Side)   \n",
       "1  2017-01-01 00:03:00-05:00                     Niagara St / Richmond St W   \n",
       "2  2017-01-01 00:05:00-05:00    Front St W / Yonge St (Hockey Hall of Fame)   \n",
       "3  2017-01-01 00:09:00-05:00                East Liberty St / Pirandello St   \n",
       "4  2017-01-01 00:14:00-05:00  Bathurst St/Queens Quay(Billy Bishop Airport)   \n",
       "\n",
       "   End Station Id                   End Time  \\\n",
       "0          7021.0  2017-01-01 00:08:00-05:00   \n",
       "1          7147.0  2017-01-01 00:12:00-05:00   \n",
       "2          7089.0  2017-01-01 00:22:00-05:00   \n",
       "3          7202.0  2017-01-01 00:26:00-05:00   \n",
       "4          7010.0  2017-01-01 00:25:00-05:00   \n",
       "\n",
       "                   End Station Name  ...  Temp (°C) Dew Point Temp (°C)  \\\n",
       "0                Bay St / Albert St  ...        1.5                -3.6   \n",
       "1            King St W / Fraser Ave  ...        1.5                -3.6   \n",
       "2              Church St  / Wood St  ...        1.5                -3.6   \n",
       "3  Queen St W / York St (City Hall)  ...        1.5                -3.6   \n",
       "4           King St W / Spadina Ave  ...        1.5                -3.6   \n",
       "\n",
       "  Rel Hum (%) Wind Dir (10s deg)  Wind Spd (km/h)  Visibility (km)  \\\n",
       "0        69.0               26.0             39.0             16.1   \n",
       "1        69.0               26.0             39.0             16.1   \n",
       "2        69.0               26.0             39.0             16.1   \n",
       "3        69.0               26.0             39.0             16.1   \n",
       "4        69.0               26.0             39.0             16.1   \n",
       "\n",
       "   Stn Press (kPa)  Hmdx  Wind Chill  Weather  \n",
       "0            99.81   NaN         NaN      NaN  \n",
       "1            99.81   NaN         NaN      NaN  \n",
       "2            99.81   NaN         NaN      NaN  \n",
       "3            99.81   NaN         NaN      NaN  \n",
       "4            99.81   NaN         NaN      NaN  \n",
       "\n",
       "[5 rows x 24 columns]"
      ]
     },
     "execution_count": 18,
     "metadata": {},
     "output_type": "execute_result"
    }
   ],
   "source": [
    "trips_raw.head()"
   ]
  },
  {
   "cell_type": "markdown",
   "metadata": {},
   "source": [
    "# Cleaning Data\n",
    "\n",
    "Removing all row except Trip ID, Trip Duration, Start Time and User Type"
   ]
  },
  {
   "cell_type": "code",
   "execution_count": 19,
   "metadata": {
    "scrolled": true
   },
   "outputs": [],
   "source": [
    "trips_raw = trips_raw[['Trip Id', 'Trip Duration', 'Start Time', 'User Type']]"
   ]
  },
  {
   "cell_type": "markdown",
   "metadata": {},
   "source": [
    "Converting Start Time Column to a datetime format"
   ]
  },
  {
   "cell_type": "code",
   "execution_count": 20,
   "metadata": {},
   "outputs": [],
   "source": [
    "trips_raw ['Start Time'] = pd.DatetimeIndex(trips_raw ['Start Time'])"
   ]
  },
  {
   "cell_type": "markdown",
   "metadata": {},
   "source": [
    "Analyzing how many different user types there are "
   ]
  },
  {
   "cell_type": "code",
   "execution_count": 21,
   "metadata": {},
   "outputs": [
    {
     "data": {
      "text/plain": [
       "array([nan, 'Annual Member', 'Casual Member'], dtype=object)"
      ]
     },
     "execution_count": 21,
     "metadata": {},
     "output_type": "execute_result"
    }
   ],
   "source": [
    "unique_subscriptions = trips_raw['User Type'].unique()\n",
    "unique_subscriptions"
   ]
  },
  {
   "cell_type": "markdown",
   "metadata": {},
   "source": [
    "Removing all nan from the User Type columns"
   ]
  },
  {
   "cell_type": "code",
   "execution_count": 22,
   "metadata": {},
   "outputs": [],
   "source": [
    "trips_raw = trips_raw[~trips_raw['User Type'].isna()]"
   ]
  },
  {
   "cell_type": "markdown",
   "metadata": {},
   "source": [
    "Determinging the time range for the data"
   ]
  },
  {
   "cell_type": "code",
   "execution_count": 23,
   "metadata": {},
   "outputs": [
    {
     "name": "stdout",
     "output_type": "stream",
     "text": [
      "2018-01-01 00:47:00-05:00\n",
      "2020-12-10 23:59:00-05:00\n"
     ]
    }
   ],
   "source": [
    "min_date = trips_raw['Start Time'].min()\n",
    "max_date = trips_raw['Start Time'].max()\n",
    "print(min_date)\n",
    "print(max_date)"
   ]
  },
  {
   "cell_type": "markdown",
   "metadata": {},
   "source": [
    "Looks like before 2018-01-01, user types were not tracked. Also, last 21 days of December 2020 are missing from the data set. Free ride Wednesdays are only during September. Only keep data from September of each year"
   ]
  },
  {
   "cell_type": "code",
   "execution_count": 24,
   "metadata": {},
   "outputs": [],
   "source": [
    "trips_raw = trips_raw[trips_raw['Start Time'].dt.month!=12]"
   ]
  },
  {
   "cell_type": "markdown",
   "metadata": {},
   "source": [
    "Split data set into casual and annual users"
   ]
  },
  {
   "cell_type": "code",
   "execution_count": 97,
   "metadata": {},
   "outputs": [],
   "source": [
    "casual_user = trips_raw[trips_raw['User Type'] == 'Casual Member']\n",
    "annual_user = trips_raw[trips_raw['User Type'] == 'Annual Member']"
   ]
  },
  {
   "cell_type": "markdown",
   "metadata": {},
   "source": [
    "Adding column to dataframe to indicate the year, month, week, weekday and hour the trip took place"
   ]
  },
  {
   "cell_type": "code",
   "execution_count": 224,
   "metadata": {},
   "outputs": [
    {
     "name": "stderr",
     "output_type": "stream",
     "text": [
      "<ipython-input-224-774b803ff4b1>:1: SettingWithCopyWarning: \n",
      "A value is trying to be set on a copy of a slice from a DataFrame.\n",
      "Try using .loc[row_indexer,col_indexer] = value instead\n",
      "\n",
      "See the caveats in the documentation: https://pandas.pydata.org/pandas-docs/stable/user_guide/indexing.html#returning-a-view-versus-a-copy\n",
      "  casual_user['Year'] = casual_user['Start Time'].dt.year\n",
      "<ipython-input-224-774b803ff4b1>:2: SettingWithCopyWarning: \n",
      "A value is trying to be set on a copy of a slice from a DataFrame.\n",
      "Try using .loc[row_indexer,col_indexer] = value instead\n",
      "\n",
      "See the caveats in the documentation: https://pandas.pydata.org/pandas-docs/stable/user_guide/indexing.html#returning-a-view-versus-a-copy\n",
      "  annual_user['Year'] = annual_user['Start Time'].dt.year\n",
      "<ipython-input-224-774b803ff4b1>:3: SettingWithCopyWarning: \n",
      "A value is trying to be set on a copy of a slice from a DataFrame.\n",
      "Try using .loc[row_indexer,col_indexer] = value instead\n",
      "\n",
      "See the caveats in the documentation: https://pandas.pydata.org/pandas-docs/stable/user_guide/indexing.html#returning-a-view-versus-a-copy\n",
      "  casual_user['Month'] = casual_user['Start Time'].dt.month\n",
      "<ipython-input-224-774b803ff4b1>:4: SettingWithCopyWarning: \n",
      "A value is trying to be set on a copy of a slice from a DataFrame.\n",
      "Try using .loc[row_indexer,col_indexer] = value instead\n",
      "\n",
      "See the caveats in the documentation: https://pandas.pydata.org/pandas-docs/stable/user_guide/indexing.html#returning-a-view-versus-a-copy\n",
      "  annual_user['Month'] = annual_user['Start Time'].dt.month\n",
      "<ipython-input-224-774b803ff4b1>:5: FutureWarning: Series.dt.weekofyear and Series.dt.week have been deprecated.  Please use Series.dt.isocalendar().week instead.\n",
      "  casual_user['Week'] = casual_user['Start Time'].dt.week\n",
      "<ipython-input-224-774b803ff4b1>:5: SettingWithCopyWarning: \n",
      "A value is trying to be set on a copy of a slice from a DataFrame.\n",
      "Try using .loc[row_indexer,col_indexer] = value instead\n",
      "\n",
      "See the caveats in the documentation: https://pandas.pydata.org/pandas-docs/stable/user_guide/indexing.html#returning-a-view-versus-a-copy\n",
      "  casual_user['Week'] = casual_user['Start Time'].dt.week\n",
      "<ipython-input-224-774b803ff4b1>:6: FutureWarning: Series.dt.weekofyear and Series.dt.week have been deprecated.  Please use Series.dt.isocalendar().week instead.\n",
      "  annual_user['Week'] = annual_user['Start Time'].dt.week\n",
      "<ipython-input-224-774b803ff4b1>:6: SettingWithCopyWarning: \n",
      "A value is trying to be set on a copy of a slice from a DataFrame.\n",
      "Try using .loc[row_indexer,col_indexer] = value instead\n",
      "\n",
      "See the caveats in the documentation: https://pandas.pydata.org/pandas-docs/stable/user_guide/indexing.html#returning-a-view-versus-a-copy\n",
      "  annual_user['Week'] = annual_user['Start Time'].dt.week\n",
      "<ipython-input-224-774b803ff4b1>:7: SettingWithCopyWarning: \n",
      "A value is trying to be set on a copy of a slice from a DataFrame.\n",
      "Try using .loc[row_indexer,col_indexer] = value instead\n",
      "\n",
      "See the caveats in the documentation: https://pandas.pydata.org/pandas-docs/stable/user_guide/indexing.html#returning-a-view-versus-a-copy\n",
      "  casual_user['Weekday'] = casual_user['Start Time'].dt.weekday\n",
      "<ipython-input-224-774b803ff4b1>:8: SettingWithCopyWarning: \n",
      "A value is trying to be set on a copy of a slice from a DataFrame.\n",
      "Try using .loc[row_indexer,col_indexer] = value instead\n",
      "\n",
      "See the caveats in the documentation: https://pandas.pydata.org/pandas-docs/stable/user_guide/indexing.html#returning-a-view-versus-a-copy\n",
      "  annual_user['Weekday'] = annual_user['Start Time'].dt.weekday\n",
      "<ipython-input-224-774b803ff4b1>:9: SettingWithCopyWarning: \n",
      "A value is trying to be set on a copy of a slice from a DataFrame.\n",
      "Try using .loc[row_indexer,col_indexer] = value instead\n",
      "\n",
      "See the caveats in the documentation: https://pandas.pydata.org/pandas-docs/stable/user_guide/indexing.html#returning-a-view-versus-a-copy\n",
      "  casual_user['Day'] = casual_user['Start Time'].dt.day\n",
      "<ipython-input-224-774b803ff4b1>:10: SettingWithCopyWarning: \n",
      "A value is trying to be set on a copy of a slice from a DataFrame.\n",
      "Try using .loc[row_indexer,col_indexer] = value instead\n",
      "\n",
      "See the caveats in the documentation: https://pandas.pydata.org/pandas-docs/stable/user_guide/indexing.html#returning-a-view-versus-a-copy\n",
      "  annual_user['Day'] = annual_user['Start Time'].dt.day\n",
      "<ipython-input-224-774b803ff4b1>:11: SettingWithCopyWarning: \n",
      "A value is trying to be set on a copy of a slice from a DataFrame.\n",
      "Try using .loc[row_indexer,col_indexer] = value instead\n",
      "\n",
      "See the caveats in the documentation: https://pandas.pydata.org/pandas-docs/stable/user_guide/indexing.html#returning-a-view-versus-a-copy\n",
      "  casual_user['Hour'] = casual_user['Start Time'].dt.hour\n",
      "<ipython-input-224-774b803ff4b1>:12: SettingWithCopyWarning: \n",
      "A value is trying to be set on a copy of a slice from a DataFrame.\n",
      "Try using .loc[row_indexer,col_indexer] = value instead\n",
      "\n",
      "See the caveats in the documentation: https://pandas.pydata.org/pandas-docs/stable/user_guide/indexing.html#returning-a-view-versus-a-copy\n",
      "  annual_user['Hour'] = annual_user['Start Time'].dt.hour\n"
     ]
    }
   ],
   "source": [
    "casual_user['Year'] = casual_user['Start Time'].dt.year\n",
    "annual_user['Year'] = annual_user['Start Time'].dt.year\n",
    "casual_user['Month'] = casual_user['Start Time'].dt.month\n",
    "annual_user['Month'] = annual_user['Start Time'].dt.month\n",
    "casual_user['Week'] = casual_user['Start Time'].dt.week\n",
    "annual_user['Week'] = annual_user['Start Time'].dt.week\n",
    "casual_user['Weekday'] = casual_user['Start Time'].dt.weekday\n",
    "annual_user['Weekday'] = annual_user['Start Time'].dt.weekday\n",
    "casual_user['Day'] = casual_user['Start Time'].dt.day\n",
    "annual_user['Day'] = annual_user['Start Time'].dt.day\n",
    "casual_user['Hour'] = casual_user['Start Time'].dt.hour\n",
    "annual_user['Hour'] = annual_user['Start Time'].dt.hour"
   ]
  },
  {
   "cell_type": "code",
   "execution_count": 225,
   "metadata": {},
   "outputs": [
    {
     "data": {
      "text/html": [
       "<div>\n",
       "<style scoped>\n",
       "    .dataframe tbody tr th:only-of-type {\n",
       "        vertical-align: middle;\n",
       "    }\n",
       "\n",
       "    .dataframe tbody tr th {\n",
       "        vertical-align: top;\n",
       "    }\n",
       "\n",
       "    .dataframe thead th {\n",
       "        text-align: right;\n",
       "    }\n",
       "</style>\n",
       "<table border=\"1\" class=\"dataframe\">\n",
       "  <thead>\n",
       "    <tr style=\"text-align: right;\">\n",
       "      <th></th>\n",
       "      <th>Trip Id</th>\n",
       "      <th>Trip Duration</th>\n",
       "      <th>Start Time</th>\n",
       "      <th>User Type</th>\n",
       "      <th>Year</th>\n",
       "      <th>Month</th>\n",
       "      <th>Week</th>\n",
       "      <th>Day</th>\n",
       "      <th>Hour</th>\n",
       "      <th>Weekday</th>\n",
       "    </tr>\n",
       "  </thead>\n",
       "  <tbody>\n",
       "    <tr>\n",
       "      <th>1392046</th>\n",
       "      <td>2383664</td>\n",
       "      <td>797</td>\n",
       "      <td>2018-01-01 02:25:00-05:00</td>\n",
       "      <td>Casual Member</td>\n",
       "      <td>2018</td>\n",
       "      <td>1</td>\n",
       "      <td>1</td>\n",
       "      <td>1</td>\n",
       "      <td>2</td>\n",
       "      <td>0</td>\n",
       "    </tr>\n",
       "    <tr>\n",
       "      <th>1392060</th>\n",
       "      <td>2383678</td>\n",
       "      <td>1216</td>\n",
       "      <td>2018-01-01 03:46:00-05:00</td>\n",
       "      <td>Casual Member</td>\n",
       "      <td>2018</td>\n",
       "      <td>1</td>\n",
       "      <td>1</td>\n",
       "      <td>1</td>\n",
       "      <td>3</td>\n",
       "      <td>0</td>\n",
       "    </tr>\n",
       "    <tr>\n",
       "      <th>1392127</th>\n",
       "      <td>2383803</td>\n",
       "      <td>339</td>\n",
       "      <td>2018-01-01 12:53:00-05:00</td>\n",
       "      <td>Casual Member</td>\n",
       "      <td>2018</td>\n",
       "      <td>1</td>\n",
       "      <td>1</td>\n",
       "      <td>1</td>\n",
       "      <td>12</td>\n",
       "      <td>0</td>\n",
       "    </tr>\n",
       "    <tr>\n",
       "      <th>1392161</th>\n",
       "      <td>2383864</td>\n",
       "      <td>1318</td>\n",
       "      <td>2018-01-01 14:57:00-05:00</td>\n",
       "      <td>Casual Member</td>\n",
       "      <td>2018</td>\n",
       "      <td>1</td>\n",
       "      <td>1</td>\n",
       "      <td>1</td>\n",
       "      <td>14</td>\n",
       "      <td>0</td>\n",
       "    </tr>\n",
       "    <tr>\n",
       "      <th>1392162</th>\n",
       "      <td>2383865</td>\n",
       "      <td>1293</td>\n",
       "      <td>2018-01-01 14:57:00-05:00</td>\n",
       "      <td>Casual Member</td>\n",
       "      <td>2018</td>\n",
       "      <td>1</td>\n",
       "      <td>1</td>\n",
       "      <td>1</td>\n",
       "      <td>14</td>\n",
       "      <td>0</td>\n",
       "    </tr>\n",
       "  </tbody>\n",
       "</table>\n",
       "</div>"
      ],
      "text/plain": [
       "         Trip Id  Trip Duration                Start Time      User Type  \\\n",
       "1392046  2383664            797 2018-01-01 02:25:00-05:00  Casual Member   \n",
       "1392060  2383678           1216 2018-01-01 03:46:00-05:00  Casual Member   \n",
       "1392127  2383803            339 2018-01-01 12:53:00-05:00  Casual Member   \n",
       "1392161  2383864           1318 2018-01-01 14:57:00-05:00  Casual Member   \n",
       "1392162  2383865           1293 2018-01-01 14:57:00-05:00  Casual Member   \n",
       "\n",
       "         Year  Month  Week  Day  Hour  Weekday  \n",
       "1392046  2018      1     1    1     2        0  \n",
       "1392060  2018      1     1    1     3        0  \n",
       "1392127  2018      1     1    1    12        0  \n",
       "1392161  2018      1     1    1    14        0  \n",
       "1392162  2018      1     1    1    14        0  "
      ]
     },
     "execution_count": 225,
     "metadata": {},
     "output_type": "execute_result"
    }
   ],
   "source": [
    "casual_user.head()"
   ]
  },
  {
   "cell_type": "code",
   "execution_count": 226,
   "metadata": {},
   "outputs": [
    {
     "data": {
      "text/html": [
       "<div>\n",
       "<style scoped>\n",
       "    .dataframe tbody tr th:only-of-type {\n",
       "        vertical-align: middle;\n",
       "    }\n",
       "\n",
       "    .dataframe tbody tr th {\n",
       "        vertical-align: top;\n",
       "    }\n",
       "\n",
       "    .dataframe thead th {\n",
       "        text-align: right;\n",
       "    }\n",
       "</style>\n",
       "<table border=\"1\" class=\"dataframe\">\n",
       "  <thead>\n",
       "    <tr style=\"text-align: right;\">\n",
       "      <th></th>\n",
       "      <th>Trip Id</th>\n",
       "      <th>Trip Duration</th>\n",
       "      <th>Start Time</th>\n",
       "      <th>User Type</th>\n",
       "      <th>Year</th>\n",
       "      <th>Month</th>\n",
       "      <th>Week</th>\n",
       "      <th>Day</th>\n",
       "      <th>Hour</th>\n",
       "      <th>Weekday</th>\n",
       "    </tr>\n",
       "  </thead>\n",
       "  <tbody>\n",
       "    <tr>\n",
       "      <th>1392031</th>\n",
       "      <td>2383648</td>\n",
       "      <td>393</td>\n",
       "      <td>2018-01-01 00:47:00-05:00</td>\n",
       "      <td>Annual Member</td>\n",
       "      <td>2018</td>\n",
       "      <td>1</td>\n",
       "      <td>1</td>\n",
       "      <td>1</td>\n",
       "      <td>0</td>\n",
       "      <td>0</td>\n",
       "    </tr>\n",
       "    <tr>\n",
       "      <th>1392032</th>\n",
       "      <td>2383649</td>\n",
       "      <td>625</td>\n",
       "      <td>2018-01-01 00:52:00-05:00</td>\n",
       "      <td>Annual Member</td>\n",
       "      <td>2018</td>\n",
       "      <td>1</td>\n",
       "      <td>1</td>\n",
       "      <td>1</td>\n",
       "      <td>0</td>\n",
       "      <td>0</td>\n",
       "    </tr>\n",
       "    <tr>\n",
       "      <th>1392033</th>\n",
       "      <td>2383650</td>\n",
       "      <td>233</td>\n",
       "      <td>2018-01-01 00:55:00-05:00</td>\n",
       "      <td>Annual Member</td>\n",
       "      <td>2018</td>\n",
       "      <td>1</td>\n",
       "      <td>1</td>\n",
       "      <td>1</td>\n",
       "      <td>0</td>\n",
       "      <td>0</td>\n",
       "    </tr>\n",
       "    <tr>\n",
       "      <th>1392034</th>\n",
       "      <td>2383651</td>\n",
       "      <td>1138</td>\n",
       "      <td>2018-01-01 00:57:00-05:00</td>\n",
       "      <td>Annual Member</td>\n",
       "      <td>2018</td>\n",
       "      <td>1</td>\n",
       "      <td>1</td>\n",
       "      <td>1</td>\n",
       "      <td>0</td>\n",
       "      <td>0</td>\n",
       "    </tr>\n",
       "    <tr>\n",
       "      <th>1392035</th>\n",
       "      <td>2383652</td>\n",
       "      <td>703</td>\n",
       "      <td>2018-01-01 01:00:00-05:00</td>\n",
       "      <td>Annual Member</td>\n",
       "      <td>2018</td>\n",
       "      <td>1</td>\n",
       "      <td>1</td>\n",
       "      <td>1</td>\n",
       "      <td>1</td>\n",
       "      <td>0</td>\n",
       "    </tr>\n",
       "  </tbody>\n",
       "</table>\n",
       "</div>"
      ],
      "text/plain": [
       "         Trip Id  Trip Duration                Start Time      User Type  \\\n",
       "1392031  2383648            393 2018-01-01 00:47:00-05:00  Annual Member   \n",
       "1392032  2383649            625 2018-01-01 00:52:00-05:00  Annual Member   \n",
       "1392033  2383650            233 2018-01-01 00:55:00-05:00  Annual Member   \n",
       "1392034  2383651           1138 2018-01-01 00:57:00-05:00  Annual Member   \n",
       "1392035  2383652            703 2018-01-01 01:00:00-05:00  Annual Member   \n",
       "\n",
       "         Year  Month  Week  Day  Hour  Weekday  \n",
       "1392031  2018      1     1    1     0        0  \n",
       "1392032  2018      1     1    1     0        0  \n",
       "1392033  2018      1     1    1     0        0  \n",
       "1392034  2018      1     1    1     0        0  \n",
       "1392035  2018      1     1    1     1        0  "
      ]
     },
     "execution_count": 226,
     "metadata": {},
     "output_type": "execute_result"
    }
   ],
   "source": [
    "annual_user.head()"
   ]
  },
  {
   "cell_type": "markdown",
   "metadata": {},
   "source": [
    "# Plotting Data (weekly distribution over the year)"
   ]
  },
  {
   "cell_type": "markdown",
   "metadata": {},
   "source": [
    "Grouping data by week over 2018 to 2020. Dividing by 3 to get average number of trips for that week of the year. "
   ]
  },
  {
   "cell_type": "code",
   "execution_count": 227,
   "metadata": {},
   "outputs": [],
   "source": [
    "number_casual_users_month = (casual_user.groupby(['Month']).size())/3\n",
    "number_annual_users_month = (annual_user.groupby(['Month']).size())/3"
   ]
  },
  {
   "cell_type": "markdown",
   "metadata": {},
   "source": [
    "Plotting weekly distribution (average week over the 3 years)"
   ]
  },
  {
   "cell_type": "code",
   "execution_count": 228,
   "metadata": {},
   "outputs": [
    {
     "data": {
      "text/plain": [
       "<matplotlib.legend.Legend at 0x1cf9ddbee20>"
      ]
     },
     "execution_count": 228,
     "metadata": {},
     "output_type": "execute_result"
    },
    {
     "data": {
      "image/png": "[encoded data removed]",
      "text/plain": [
       "<Figure size 432x288 with 1 Axes>"
      ]
     },
     "metadata": {
      "needs_background": "light"
     },
     "output_type": "display_data"
    }
   ],
   "source": [
    "fig, ax = plt.subplots()\n",
    "\n",
    "p1 = ax.plot(number_casual_users_month/1000,  linewidth = 3)\n",
    "p2 = ax.plot(number_annual_users_month/1000,  linewidth = 3)\n",
    "\n",
    "ax.yaxis.grid(True)\n",
    "ax.xaxis.grid(False)\n",
    "\n",
    "Months = ['Jan', 'Feb', 'Mar', 'Apr', 'May', 'Jun', 'Jul', 'Aug', 'Sep', 'Oct', 'Nov', 'Dec',]\n",
    "\n",
    "plt.xticks(range(12), Months)\n",
    "\n",
    "ax.set_ylabel('Numebr of Trips (1000s)')\n",
    "ax.set_xlabel('Week of the Year')\n",
    "ax.set_title('Average Monthly Users from 2018 - 2020')\n",
    "\n",
    "ax.legend((p1[0],p2[0]), ('Casual Users','Annual Users'), \n",
    "          loc='best')"
   ]
  },
  {
   "cell_type": "markdown",
   "metadata": {},
   "source": [
    "# Plotting Data (daily distribution over the week)"
   ]
  },
  {
   "cell_type": "markdown",
   "metadata": {},
   "source": [
    "Grouping daily data over the 7 days of the week"
   ]
  },
  {
   "cell_type": "code",
   "execution_count": 229,
   "metadata": {},
   "outputs": [],
   "source": [
    "number_casual_users_day = (casual_user.groupby(['Weekday']).size())/3\n",
    "number_annual_users_day = (annual_user.groupby(['Weekday']).size())/3"
   ]
  },
  {
   "cell_type": "markdown",
   "metadata": {},
   "source": [
    "Plotting daily distribution over the week (average day over the 3 years)"
   ]
  },
  {
   "cell_type": "code",
   "execution_count": 230,
   "metadata": {},
   "outputs": [
    {
     "data": {
      "text/plain": [
       "<matplotlib.legend.Legend at 0x1d006784100>"
      ]
     },
     "execution_count": 230,
     "metadata": {},
     "output_type": "execute_result"
    },
    {
     "data": {
      "image/png": "[encoded data removed]",
      "text/plain": [
       "<Figure size 432x288 with 1 Axes>"
      ]
     },
     "metadata": {
      "needs_background": "light"
     },
     "output_type": "display_data"
    }
   ],
   "source": [
    "fig, ax = plt.subplots()\n",
    "\n",
    "p1 = ax.plot(number_casual_users_day/1000,  linewidth = 3)\n",
    "p2 = ax.plot(number_annual_users_day/1000,  linewidth = 3)\n",
    "\n",
    "ax.yaxis.grid(True)\n",
    "ax.xaxis.grid(False)\n",
    "\n",
    "Weekdays = ['Mon', 'Tue', 'Wed', 'Thurs', 'Fri', 'Sat', 'Sun']\n",
    "\n",
    "plt.xticks(range(7), Weekdays)\n",
    "\n",
    "ax.set_ylabel('Numebr of Trips (1000s)')\n",
    "ax.set_xlabel('Day of the Week')\n",
    "ax.set_title('Average Daily Users over the Week from 2018 - 2020')\n",
    "\n",
    "ax.legend((p1[0],p2[0]), ('Casual Users','Annual Users'), \n",
    "          loc='best')"
   ]
  },
  {
   "cell_type": "markdown",
   "metadata": {},
   "source": [
    "# Plotting Data (daily distribution over the week)"
   ]
  },
  {
   "cell_type": "markdown",
   "metadata": {},
   "source": [
    "Grouping hourly data over the day"
   ]
  },
  {
   "cell_type": "code",
   "execution_count": 231,
   "metadata": {},
   "outputs": [],
   "source": [
    "number_casual_users_Hour = (casual_user.groupby(['Hour']).size())/3\n",
    "number_annual_users_Hour = (annual_user.groupby(['Hour']).size())/3"
   ]
  },
  {
   "cell_type": "markdown",
   "metadata": {},
   "source": [
    "Plotting hourly distribution over the day (average day over the 3 years)"
   ]
  },
  {
   "cell_type": "code",
   "execution_count": 232,
   "metadata": {},
   "outputs": [
    {
     "data": {
      "text/plain": [
       "<matplotlib.legend.Legend at 0x1cf9dd081f0>"
      ]
     },
     "execution_count": 232,
     "metadata": {},
     "output_type": "execute_result"
    },
    {
     "data": {
      "image/png": "[encoded data removed]",
      "text/plain": [
       "<Figure size 432x288 with 1 Axes>"
      ]
     },
     "metadata": {
      "needs_background": "light"
     },
     "output_type": "display_data"
    }
   ],
   "source": [
    "fig, ax = plt.subplots()\n",
    "\n",
    "p1 = ax.plot(number_casual_users_Hour/1000,  linewidth = 3)\n",
    "p2 = ax.plot(number_annual_users_Hour/1000,  linewidth = 3)\n",
    "\n",
    "ax.yaxis.grid(True)\n",
    "ax.xaxis.grid(False)\n",
    "\n",
    "\n",
    "ax.set_ylabel('Numebr of Trips (1000s)')\n",
    "ax.set_xlabel('Hour of the Day')\n",
    "ax.set_title('Average Hourly Users over the Day from 2018 - 2020')\n",
    "\n",
    "ax.legend((p1[0],p2[0]), ('Casual Users','Annual Users'), \n",
    "          loc='best')"
   ]
  },
  {
   "cell_type": "markdown",
   "metadata": {},
   "source": [
    "# Plotting Holiday Statutory Holidays Impact Demand"
   ]
  },
  {
   "cell_type": "markdown",
   "metadata": {},
   "source": [
    "Since most of the cycling demand is in the summner months only holidays in May, June, July and August will be analyzied. Additionally, we will only be looking at holidays in 2019. "
   ]
  },
  {
   "cell_type": "code",
   "execution_count": 233,
   "metadata": {},
   "outputs": [],
   "source": [
    "# Remove all years except 2019\n",
    "casual_users_may_to_aug_2019 = casual_user[casual_user['Year']==2019]\n",
    "annual_users_may_to_aug_2019 = annual_user[annual_user['Year']==2019]\n",
    "\n",
    "# Remove all months except May\n",
    "casual_users_may_2019 = casual_users_may_to_aug_2019[casual_users_may_to_aug_2019['Month'] == 5]\n",
    "annual_users_may_2019 = annual_users_may_to_aug_2019[annual_users_may_to_aug_2019['Month'] == 5]\n",
    "\n",
    "# Remove all months except June\n",
    "casual_users_jun_2019 = casual_users_may_to_aug_2019[casual_users_may_to_aug_2019['Month'] == 6]\n",
    "annual_users_jun_2019 = annual_users_may_to_aug_2019[annual_users_may_to_aug_2019['Month'] == 6]\n",
    "\n",
    "# Remove all months except July\n",
    "casual_users_jul_2019 = casual_users_may_to_aug_2019[casual_users_may_to_aug_2019['Month'] == 7]\n",
    "annual_users_jul_2019 = annual_users_may_to_aug_2019[annual_users_may_to_aug_2019['Month'] == 7]\n",
    "\n",
    "# Remove all months except Aug\n",
    "casual_users_aug_2019 = casual_users_may_to_aug_2019[casual_users_may_to_aug_2019['Month'] == 8]\n",
    "annual_users_aug_2019 = annual_users_may_to_aug_2019[annual_users_may_to_aug_2019['Month'] == 8]\n"
   ]
  },
  {
   "cell_type": "markdown",
   "metadata": {},
   "source": [
    "### Holiday Demand in May 2019"
   ]
  },
  {
   "cell_type": "raw",
   "metadata": {},
   "source": [
    "Grouping daily data over May"
   ]
  },
  {
   "cell_type": "code",
   "execution_count": 248,
   "metadata": {},
   "outputs": [],
   "source": [
    "number_casual_users_day = casual_users_may_2019.groupby(['Day']).size()\n",
    "number_annual_users_day = annual_users_may_2019.groupby(['Day']).size()"
   ]
  },
  {
   "cell_type": "markdown",
   "metadata": {},
   "source": [
    "Plotting daily data over May"
   ]
  },
  {
   "cell_type": "code",
   "execution_count": 249,
   "metadata": {},
   "outputs": [
    {
     "data": {
      "text/plain": [
       "<matplotlib.legend.Legend at 0x1cffd84ec40>"
      ]
     },
     "execution_count": 249,
     "metadata": {},
     "output_type": "execute_result"
    },
    {
     "data": {
      "image/png": "[encoded data removed]",
      "text/plain": [
       "<Figure size 432x288 with 1 Axes>"
      ]
     },
     "metadata": {
      "needs_background": "light"
     },
     "output_type": "display_data"
    }
   ],
   "source": [
    "fig, ax = plt.subplots()\n",
    "\n",
    "p1 = ax.plot(number_casual_users_day/1000,  linewidth = 3)\n",
    "p2 = ax.plot(number_annual_users_day/1000,  linewidth = 3)\n",
    "\n",
    "mohters_day = plt.axvline(x = 12, color = 'red')\n",
    "vitoria_day = plt.axvline(x = 20, color = 'green')\n",
    "\n",
    "ax.yaxis.grid(True)\n",
    "ax.xaxis.grid(False)\n",
    "\n",
    "\n",
    "ax.set_ylabel('Numebr of Trips (1000s)')\n",
    "ax.set_xlabel('Day of Month')\n",
    "ax.set_title('Daily Trips in May 2019')\n",
    "\n",
    "ax.legend((p1[0],p2[0], mohters_day, vitoria_day), ('Casual Users','Annual Users', 'Mothers Day', 'Victoria Day'), \n",
    "          loc='best')"
   ]
  },
  {
   "cell_type": "markdown",
   "metadata": {},
   "source": [
    "### Holiday Demand in June 2019"
   ]
  },
  {
   "cell_type": "markdown",
   "metadata": {},
   "source": [
    "Grouping daily data over June"
   ]
  },
  {
   "cell_type": "code",
   "execution_count": 250,
   "metadata": {},
   "outputs": [],
   "source": [
    "number_casual_users_day = casual_users_jun_2019.groupby(['Day']).size()\n",
    "number_annual_users_day = annual_users_jun_2019.groupby(['Day']).size()"
   ]
  },
  {
   "cell_type": "markdown",
   "metadata": {},
   "source": [
    "Plotting daily data over June"
   ]
  },
  {
   "cell_type": "code",
   "execution_count": 251,
   "metadata": {},
   "outputs": [
    {
     "data": {
      "text/plain": [
       "<matplotlib.legend.Legend at 0x1cffd8c3c10>"
      ]
     },
     "execution_count": 251,
     "metadata": {},
     "output_type": "execute_result"
    },
    {
     "data": {
      "image/png": "[encoded data removed]",
      "text/plain": [
       "<Figure size 432x288 with 1 Axes>"
      ]
     },
     "metadata": {
      "needs_background": "light"
     },
     "output_type": "display_data"
    }
   ],
   "source": [
    "fig, ax = plt.subplots()\n",
    "\n",
    "p1 = ax.plot(number_casual_users_day/1000,  linewidth = 3)\n",
    "p2 = ax.plot(number_annual_users_day/1000,  linewidth = 3)\n",
    "\n",
    "fathers_day = plt.axvline(x = 16, color = 'red')\n",
    "\n",
    "\n",
    "ax.yaxis.grid(True)\n",
    "ax.xaxis.grid(False)\n",
    "\n",
    "\n",
    "ax.set_ylabel('Numebr of Trips (1000s)')\n",
    "ax.set_xlabel('Day of Month')\n",
    "ax.set_title('Daily Trips in June 2019')\n",
    "\n",
    "ax.legend((p1[0],p2[0], fathers_day), ('Casual Users','Annual Users', 'Fathers Day'), \n",
    "          loc='best')"
   ]
  },
  {
   "cell_type": "markdown",
   "metadata": {},
   "source": [
    "### Holiday Demand in July 2019"
   ]
  },
  {
   "cell_type": "markdown",
   "metadata": {},
   "source": [
    "Grouping daily data over July"
   ]
  },
  {
   "cell_type": "code",
   "execution_count": 252,
   "metadata": {},
   "outputs": [],
   "source": [
    "number_casual_users_day = casual_users_jul_2019.groupby(['Day']).size()\n",
    "number_annual_users_day = annual_users_jul_2019.groupby(['Day']).size()"
   ]
  },
  {
   "cell_type": "markdown",
   "metadata": {},
   "source": [
    "Plotting daily data over July"
   ]
  },
  {
   "cell_type": "code",
   "execution_count": 253,
   "metadata": {},
   "outputs": [
    {
     "data": {
      "text/plain": [
       "<matplotlib.legend.Legend at 0x1cffd92fd30>"
      ]
     },
     "execution_count": 253,
     "metadata": {},
     "output_type": "execute_result"
    },
    {
     "data": {
      "image/png": "[encoded data removed]",
      "text/plain": [
       "<Figure size 432x288 with 1 Axes>"
      ]
     },
     "metadata": {
      "needs_background": "light"
     },
     "output_type": "display_data"
    }
   ],
   "source": [
    "fig, ax = plt.subplots()\n",
    "\n",
    "p1 = ax.plot(number_casual_users_day/1000,  linewidth = 3)\n",
    "p2 = ax.plot(number_annual_users_day/1000,  linewidth = 3)\n",
    "\n",
    "canada_day = plt.axvline(x = 1, color = 'red')\n",
    "\n",
    "\n",
    "ax.yaxis.grid(True)\n",
    "ax.xaxis.grid(False)\n",
    "\n",
    "\n",
    "ax.set_ylabel('Numebr of Trips (1000s)')\n",
    "ax.set_xlabel('Day of Month')\n",
    "ax.set_title('Daily Trips in July 2019')\n",
    "\n",
    "ax.legend((p1[0],p2[0], canada_day), ('Casual Users','Annual Users', 'Canada Day'), \n",
    "          loc='best')"
   ]
  },
  {
   "cell_type": "markdown",
   "metadata": {},
   "source": [
    "# There are no statutory holidays in August"
   ]
  }
 ],
 "metadata": {
  "kernelspec": {
   "display_name": "Python 3",
   "language": "python",
   "name": "python3"
  },
  "language_info": {
   "codemirror_mode": {
    "name": "ipython",
    "version": 3
   },
   "file_extension": ".py",
   "mimetype": "text/x-python",
   "name": "python",
   "nbconvert_exporter": "python",
   "pygments_lexer": "ipython3",
   "version": "3.8.5"
  }
 },
 "nbformat": 4,
 "nbformat_minor": 4
}
