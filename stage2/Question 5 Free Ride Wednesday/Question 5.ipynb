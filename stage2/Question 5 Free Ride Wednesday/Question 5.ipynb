{
 "cells": [
  {
   "cell_type": "code",
   "execution_count": 1,
   "metadata": {},
   "outputs": [],
   "source": [
    "import pandas as pd\n",
    "import matplotlib as mpl\n",
    "import matplotlib.pyplot as plt\n",
    "import numpy as np"
   ]
  },
  {
   "cell_type": "markdown",
   "metadata": {},
   "source": [
    "# Import raw cycling Data"
   ]
  },
  {
   "cell_type": "code",
   "execution_count": 2,
   "metadata": {},
   "outputs": [
    {
     "name": "stderr",
     "output_type": "stream",
     "text": [
      "C:\\Users\\aliqm\\anaconda3\\lib\\site-packages\\IPython\\core\\interactiveshell.py:3146: DtypeWarning: Columns (11,23) have mixed types.Specify dtype option on import or set low_memory=False.\n",
      "  has_raised = await self.run_ast_nodes(code_ast.body, cell_name,\n"
     ]
    }
   ],
   "source": [
    "trips_raw = pd.read_csv('trips_raw_data.csv')"
   ]
  },
  {
   "cell_type": "markdown",
   "metadata": {},
   "source": [
    "## Explore data types and rows in trips_raw_data.csv"
   ]
  },
  {
   "cell_type": "code",
   "execution_count": 3,
   "metadata": {},
   "outputs": [
    {
     "name": "stdout",
     "output_type": "stream",
     "text": [
      "<class 'pandas.core.frame.DataFrame'>\n",
      "RangeIndex: 8039088 entries, 0 to 8039087\n",
      "Data columns (total 24 columns):\n",
      " #   Column               Dtype  \n",
      "---  ------               -----  \n",
      " 0   Unnamed: 0           int64  \n",
      " 1   Trip Id              int64  \n",
      " 2   Subscription Id      float64\n",
      " 3   Trip Duration        int64  \n",
      " 4   Start Station Id     float64\n",
      " 5   Start Time           object \n",
      " 6   Start Station Name   object \n",
      " 7   End Station Id       float64\n",
      " 8   End Time             object \n",
      " 9   End Station Name     object \n",
      " 10  Bike Id              float64\n",
      " 11  User Type            object \n",
      " 12  merge_time           object \n",
      " 13  Date/Time            object \n",
      " 14  Temp (°C)            float64\n",
      " 15  Dew Point Temp (°C)  float64\n",
      " 16  Rel Hum (%)          float64\n",
      " 17  Wind Dir (10s deg)   float64\n",
      " 18  Wind Spd (km/h)      float64\n",
      " 19  Visibility (km)      float64\n",
      " 20  Stn Press (kPa)      float64\n",
      " 21  Hmdx                 float64\n",
      " 22  Wind Chill           float64\n",
      " 23  Weather              object \n",
      "dtypes: float64(13), int64(3), object(8)\n",
      "memory usage: 1.4+ GB\n"
     ]
    }
   ],
   "source": [
    "trips_raw.info()"
   ]
  },
  {
   "cell_type": "code",
   "execution_count": 4,
   "metadata": {},
   "outputs": [
    {
     "data": {
      "text/html": [
       "<div>\n",
       "<style scoped>\n",
       "    .dataframe tbody tr th:only-of-type {\n",
       "        vertical-align: middle;\n",
       "    }\n",
       "\n",
       "    .dataframe tbody tr th {\n",
       "        vertical-align: top;\n",
       "    }\n",
       "\n",
       "    .dataframe thead th {\n",
       "        text-align: right;\n",
       "    }\n",
       "</style>\n",
       "<table border=\"1\" class=\"dataframe\">\n",
       "  <thead>\n",
       "    <tr style=\"text-align: right;\">\n",
       "      <th></th>\n",
       "      <th>Unnamed: 0</th>\n",
       "      <th>Trip Id</th>\n",
       "      <th>Subscription Id</th>\n",
       "      <th>Trip Duration</th>\n",
       "      <th>Start Station Id</th>\n",
       "      <th>Start Time</th>\n",
       "      <th>Start Station Name</th>\n",
       "      <th>End Station Id</th>\n",
       "      <th>End Time</th>\n",
       "      <th>End Station Name</th>\n",
       "      <th>...</th>\n",
       "      <th>Temp (°C)</th>\n",
       "      <th>Dew Point Temp (°C)</th>\n",
       "      <th>Rel Hum (%)</th>\n",
       "      <th>Wind Dir (10s deg)</th>\n",
       "      <th>Wind Spd (km/h)</th>\n",
       "      <th>Visibility (km)</th>\n",
       "      <th>Stn Press (kPa)</th>\n",
       "      <th>Hmdx</th>\n",
       "      <th>Wind Chill</th>\n",
       "      <th>Weather</th>\n",
       "    </tr>\n",
       "  </thead>\n",
       "  <tbody>\n",
       "    <tr>\n",
       "      <th>0</th>\n",
       "      <td>58</td>\n",
       "      <td>712441</td>\n",
       "      <td>NaN</td>\n",
       "      <td>274</td>\n",
       "      <td>7006.0</td>\n",
       "      <td>2017-01-01 00:03:00-05:00</td>\n",
       "      <td>Bay St / College St (East Side)</td>\n",
       "      <td>7021.0</td>\n",
       "      <td>2017-01-01 00:08:00-05:00</td>\n",
       "      <td>Bay St / Albert St</td>\n",
       "      <td>...</td>\n",
       "      <td>1.5</td>\n",
       "      <td>-3.6</td>\n",
       "      <td>69.0</td>\n",
       "      <td>26.0</td>\n",
       "      <td>39.0</td>\n",
       "      <td>16.1</td>\n",
       "      <td>99.81</td>\n",
       "      <td>NaN</td>\n",
       "      <td>NaN</td>\n",
       "      <td>NaN</td>\n",
       "    </tr>\n",
       "    <tr>\n",
       "      <th>1</th>\n",
       "      <td>59</td>\n",
       "      <td>712442</td>\n",
       "      <td>NaN</td>\n",
       "      <td>538</td>\n",
       "      <td>7046.0</td>\n",
       "      <td>2017-01-01 00:03:00-05:00</td>\n",
       "      <td>Niagara St / Richmond St W</td>\n",
       "      <td>7147.0</td>\n",
       "      <td>2017-01-01 00:12:00-05:00</td>\n",
       "      <td>King St W / Fraser Ave</td>\n",
       "      <td>...</td>\n",
       "      <td>1.5</td>\n",
       "      <td>-3.6</td>\n",
       "      <td>69.0</td>\n",
       "      <td>26.0</td>\n",
       "      <td>39.0</td>\n",
       "      <td>16.1</td>\n",
       "      <td>99.81</td>\n",
       "      <td>NaN</td>\n",
       "      <td>NaN</td>\n",
       "      <td>NaN</td>\n",
       "    </tr>\n",
       "    <tr>\n",
       "      <th>2</th>\n",
       "      <td>60</td>\n",
       "      <td>712443</td>\n",
       "      <td>NaN</td>\n",
       "      <td>992</td>\n",
       "      <td>7048.0</td>\n",
       "      <td>2017-01-01 00:05:00-05:00</td>\n",
       "      <td>Front St W / Yonge St (Hockey Hall of Fame)</td>\n",
       "      <td>7089.0</td>\n",
       "      <td>2017-01-01 00:22:00-05:00</td>\n",
       "      <td>Church St  / Wood St</td>\n",
       "      <td>...</td>\n",
       "      <td>1.5</td>\n",
       "      <td>-3.6</td>\n",
       "      <td>69.0</td>\n",
       "      <td>26.0</td>\n",
       "      <td>39.0</td>\n",
       "      <td>16.1</td>\n",
       "      <td>99.81</td>\n",
       "      <td>NaN</td>\n",
       "      <td>NaN</td>\n",
       "      <td>NaN</td>\n",
       "    </tr>\n",
       "    <tr>\n",
       "      <th>3</th>\n",
       "      <td>61</td>\n",
       "      <td>712444</td>\n",
       "      <td>NaN</td>\n",
       "      <td>1005</td>\n",
       "      <td>7177.0</td>\n",
       "      <td>2017-01-01 00:09:00-05:00</td>\n",
       "      <td>East Liberty St / Pirandello St</td>\n",
       "      <td>7202.0</td>\n",
       "      <td>2017-01-01 00:26:00-05:00</td>\n",
       "      <td>Queen St W / York St (City Hall)</td>\n",
       "      <td>...</td>\n",
       "      <td>1.5</td>\n",
       "      <td>-3.6</td>\n",
       "      <td>69.0</td>\n",
       "      <td>26.0</td>\n",
       "      <td>39.0</td>\n",
       "      <td>16.1</td>\n",
       "      <td>99.81</td>\n",
       "      <td>NaN</td>\n",
       "      <td>NaN</td>\n",
       "      <td>NaN</td>\n",
       "    </tr>\n",
       "    <tr>\n",
       "      <th>4</th>\n",
       "      <td>62</td>\n",
       "      <td>712445</td>\n",
       "      <td>NaN</td>\n",
       "      <td>645</td>\n",
       "      <td>7203.0</td>\n",
       "      <td>2017-01-01 00:14:00-05:00</td>\n",
       "      <td>Bathurst St/Queens Quay(Billy Bishop Airport)</td>\n",
       "      <td>7010.0</td>\n",
       "      <td>2017-01-01 00:25:00-05:00</td>\n",
       "      <td>King St W / Spadina Ave</td>\n",
       "      <td>...</td>\n",
       "      <td>1.5</td>\n",
       "      <td>-3.6</td>\n",
       "      <td>69.0</td>\n",
       "      <td>26.0</td>\n",
       "      <td>39.0</td>\n",
       "      <td>16.1</td>\n",
       "      <td>99.81</td>\n",
       "      <td>NaN</td>\n",
       "      <td>NaN</td>\n",
       "      <td>NaN</td>\n",
       "    </tr>\n",
       "  </tbody>\n",
       "</table>\n",
       "<p>5 rows × 24 columns</p>\n",
       "</div>"
      ],
      "text/plain": [
       "   Unnamed: 0  Trip Id  Subscription Id  Trip Duration  Start Station Id  \\\n",
       "0          58   712441              NaN            274            7006.0   \n",
       "1          59   712442              NaN            538            7046.0   \n",
       "2          60   712443              NaN            992            7048.0   \n",
       "3          61   712444              NaN           1005            7177.0   \n",
       "4          62   712445              NaN            645            7203.0   \n",
       "\n",
       "                  Start Time                             Start Station Name  \\\n",
       "0  2017-01-01 00:03:00-05:00                Bay St / College St (East Side)   \n",
       "1  2017-01-01 00:03:00-05:00                     Niagara St / Richmond St W   \n",
       "2  2017-01-01 00:05:00-05:00    Front St W / Yonge St (Hockey Hall of Fame)   \n",
       "3  2017-01-01 00:09:00-05:00                East Liberty St / Pirandello St   \n",
       "4  2017-01-01 00:14:00-05:00  Bathurst St/Queens Quay(Billy Bishop Airport)   \n",
       "\n",
       "   End Station Id                   End Time  \\\n",
       "0          7021.0  2017-01-01 00:08:00-05:00   \n",
       "1          7147.0  2017-01-01 00:12:00-05:00   \n",
       "2          7089.0  2017-01-01 00:22:00-05:00   \n",
       "3          7202.0  2017-01-01 00:26:00-05:00   \n",
       "4          7010.0  2017-01-01 00:25:00-05:00   \n",
       "\n",
       "                   End Station Name  ...  Temp (°C) Dew Point Temp (°C)  \\\n",
       "0                Bay St / Albert St  ...        1.5                -3.6   \n",
       "1            King St W / Fraser Ave  ...        1.5                -3.6   \n",
       "2              Church St  / Wood St  ...        1.5                -3.6   \n",
       "3  Queen St W / York St (City Hall)  ...        1.5                -3.6   \n",
       "4           King St W / Spadina Ave  ...        1.5                -3.6   \n",
       "\n",
       "  Rel Hum (%) Wind Dir (10s deg)  Wind Spd (km/h)  Visibility (km)  \\\n",
       "0        69.0               26.0             39.0             16.1   \n",
       "1        69.0               26.0             39.0             16.1   \n",
       "2        69.0               26.0             39.0             16.1   \n",
       "3        69.0               26.0             39.0             16.1   \n",
       "4        69.0               26.0             39.0             16.1   \n",
       "\n",
       "   Stn Press (kPa)  Hmdx  Wind Chill  Weather  \n",
       "0            99.81   NaN         NaN      NaN  \n",
       "1            99.81   NaN         NaN      NaN  \n",
       "2            99.81   NaN         NaN      NaN  \n",
       "3            99.81   NaN         NaN      NaN  \n",
       "4            99.81   NaN         NaN      NaN  \n",
       "\n",
       "[5 rows x 24 columns]"
      ]
     },
     "execution_count": 4,
     "metadata": {},
     "output_type": "execute_result"
    }
   ],
   "source": [
    "trips_raw.head()"
   ]
  },
  {
   "cell_type": "markdown",
   "metadata": {},
   "source": [
    "# Cleaning Data\n",
    "\n",
    "Removing all row except Trip ID, Trip Duration, Start Time and User Type"
   ]
  },
  {
   "cell_type": "code",
   "execution_count": 5,
   "metadata": {
    "scrolled": true
   },
   "outputs": [],
   "source": [
    "trips_raw = trips_raw[['Trip Id', 'Trip Duration', 'Start Time', 'User Type']]"
   ]
  },
  {
   "cell_type": "markdown",
   "metadata": {},
   "source": [
    "Converting Start Time Column to a datetime format"
   ]
  },
  {
   "cell_type": "code",
   "execution_count": 6,
   "metadata": {},
   "outputs": [],
   "source": [
    "trips_raw ['Start Time'] = pd.DatetimeIndex(trips_raw ['Start Time'])"
   ]
  },
  {
   "cell_type": "markdown",
   "metadata": {},
   "source": [
    "Analyzing how many different user types there are "
   ]
  },
  {
   "cell_type": "code",
   "execution_count": 7,
   "metadata": {},
   "outputs": [
    {
     "data": {
      "text/plain": [
       "array([nan, 'Annual Member', 'Casual Member'], dtype=object)"
      ]
     },
     "execution_count": 7,
     "metadata": {},
     "output_type": "execute_result"
    }
   ],
   "source": [
    "unique_subscriptions = trips_raw['User Type'].unique()\n",
    "unique_subscriptions"
   ]
  },
  {
   "cell_type": "markdown",
   "metadata": {},
   "source": [
    "Removing all nan from the User Type columns"
   ]
  },
  {
   "cell_type": "code",
   "execution_count": 8,
   "metadata": {},
   "outputs": [],
   "source": [
    "trips_raw = trips_raw[~trips_raw['User Type'].isna()]"
   ]
  },
  {
   "cell_type": "markdown",
   "metadata": {},
   "source": [
    "Determinging the time range for the data"
   ]
  },
  {
   "cell_type": "code",
   "execution_count": 9,
   "metadata": {},
   "outputs": [
    {
     "name": "stdout",
     "output_type": "stream",
     "text": [
      "2018-01-01 00:47:00-05:00\n",
      "2020-12-10 23:59:00-05:00\n"
     ]
    }
   ],
   "source": [
    "min_date = trips_raw['Start Time'].min()\n",
    "max_date = trips_raw['Start Time'].max()\n",
    "print(min_date)\n",
    "print(max_date)"
   ]
  },
  {
   "cell_type": "markdown",
   "metadata": {},
   "source": [
    "Looks like before 2018-01-01, user types were not tracked. Also, last 21 days of December 2020 are missing from the data set. Free ride Wednesdays are only during September. Only keep data from September of each year"
   ]
  },
  {
   "cell_type": "code",
   "execution_count": 37,
   "metadata": {},
   "outputs": [],
   "source": [
    "trips_raw = trips_raw[trips_raw['Start Time'].dt.month==9]"
   ]
  },
  {
   "cell_type": "markdown",
   "metadata": {},
   "source": [
    "Split data set into casual and annual users"
   ]
  },
  {
   "cell_type": "code",
   "execution_count": 38,
   "metadata": {},
   "outputs": [],
   "source": [
    "casual_user = trips_raw[trips_raw['User Type'] == 'Casual Member']\n",
    "annual_user = trips_raw[trips_raw['User Type'] == 'Annual Member']"
   ]
  },
  {
   "cell_type": "markdown",
   "metadata": {},
   "source": [
    "Grouping data by weekday"
   ]
  },
  {
   "cell_type": "code",
   "execution_count": 39,
   "metadata": {},
   "outputs": [
    {
     "name": "stderr",
     "output_type": "stream",
     "text": [
      "<ipython-input-39-073088605e40>:1: SettingWithCopyWarning: \n",
      "A value is trying to be set on a copy of a slice from a DataFrame.\n",
      "Try using .loc[row_indexer,col_indexer] = value instead\n",
      "\n",
      "See the caveats in the documentation: https://pandas.pydata.org/pandas-docs/stable/user_guide/indexing.html#returning-a-view-versus-a-copy\n",
      "  casual_user['Day'] = casual_user['Start Time'].dt.weekday\n",
      "<ipython-input-39-073088605e40>:2: SettingWithCopyWarning: \n",
      "A value is trying to be set on a copy of a slice from a DataFrame.\n",
      "Try using .loc[row_indexer,col_indexer] = value instead\n",
      "\n",
      "See the caveats in the documentation: https://pandas.pydata.org/pandas-docs/stable/user_guide/indexing.html#returning-a-view-versus-a-copy\n",
      "  annual_user['Day'] = annual_user['Start Time'].dt.weekday\n"
     ]
    }
   ],
   "source": [
    "casual_user['Day'] = casual_user['Start Time'].dt.weekday\n",
    "annual_user['Day'] = annual_user['Start Time'].dt.weekday"
   ]
  },
  {
   "cell_type": "code",
   "execution_count": 40,
   "metadata": {},
   "outputs": [],
   "source": [
    "number_casual_users = casual_user.groupby(['Day']).size()\n",
    "number_annual_users = annual_user.groupby(['Day']).size()"
   ]
  },
  {
   "cell_type": "code",
   "execution_count": 41,
   "metadata": {},
   "outputs": [
    {
     "data": {
      "text/plain": [
       "Day\n",
       "0    22686\n",
       "1    22984\n",
       "2    30673\n",
       "3    16672\n",
       "4    20553\n",
       "5    39457\n",
       "6    43379\n",
       "dtype: int64"
      ]
     },
     "execution_count": 41,
     "metadata": {},
     "output_type": "execute_result"
    }
   ],
   "source": [
    "number_casual_users"
   ]
  },
  {
   "cell_type": "code",
   "execution_count": 42,
   "metadata": {},
   "outputs": [
    {
     "data": {
      "text/plain": [
       "Day\n",
       "0     95490\n",
       "1    103538\n",
       "2     99884\n",
       "3     94461\n",
       "4     87750\n",
       "5     76382\n",
       "6     84575\n",
       "dtype: int64"
      ]
     },
     "execution_count": 42,
     "metadata": {},
     "output_type": "execute_result"
    }
   ],
   "source": [
    "number_annual_users"
   ]
  },
  {
   "cell_type": "markdown",
   "metadata": {},
   "source": [
    "# Plotting Data"
   ]
  },
  {
   "cell_type": "code",
   "execution_count": 48,
   "metadata": {},
   "outputs": [
    {
     "name": "stderr",
     "output_type": "stream",
     "text": [
      "<ipython-input-48-b34fd94abbb1>:6: UserWarning: FixedFormatter should only be used together with FixedLocator\n",
      "  ax.set_yticklabels(number_casual_users.index)\n"
     ]
    },
    {
     "data": {
      "text/plain": [
       "<matplotlib.legend.Legend at 0x152a3c55100>"
      ]
     },
     "execution_count": 48,
     "metadata": {},
     "output_type": "execute_result"
    },
    {
     "data": {
      "image/png": "[encoded data removed]",
      "text/plain": [
       "<Figure size 432x288 with 1 Axes>"
      ]
     },
     "metadata": {
      "needs_background": "light"
     },
     "output_type": "display_data"
    }
   ],
   "source": [
    "fig, ax = plt.subplots()\n",
    "\n",
    "p1 = ax.barh(np.arange(7)+0.4, number_casual_users/1000, 0.4, align = 'center')\n",
    "p2 = ax.barh(np.arange(7), number_annual_users/1000, 0.4, align = 'center')\n",
    "\n",
    "ax.set_yticklabels(number_casual_users.index)\n",
    "\n",
    "ax.set_yticks(np.arange(7)+0.4/2)\n",
    "\n",
    "ax.xaxis.grid(True)\n",
    "ax.yaxis.grid(False)\n",
    "\n",
    "Weekdays = ['Mon', 'Tue', 'Wed', 'Thurs', 'Fri', 'Sat', 'Sun']\n",
    "\n",
    "plt.yticks(range(7), Weekdays)\n",
    "\n",
    "ax.set_xlabel('Numebr of Trips (1000s)')\n",
    "ax.set_ylabel('Weekday')\n",
    "ax.set_title('Free Ride Wednesday Popularity, 2017 - 2020 September Only, Casual Vs. Annual Users')\n",
    "\n",
    "ax.legend((p1[0], p2[0]), ('Casual Users', 'Annual Users'), \n",
    "          loc='best')"
   ]
  },
  {
   "cell_type": "markdown",
   "metadata": {},
   "source": [
    "There is a spike on free ride wednesday. However, the weekends are still more popular for casual users. Annual users are most likey using the bike share for their commutes, rather than for leasure (like the casual users). "
   ]
  }
 ],
 "metadata": {
  "kernelspec": {
   "display_name": "Python 3",
   "language": "python",
   "name": "python3"
  },
  "language_info": {
   "codemirror_mode": {
    "name": "ipython",
    "version": 3
   },
   "file_extension": ".py",
   "mimetype": "text/x-python",
   "name": "python",
   "nbconvert_exporter": "python",
   "pygments_lexer": "ipython3",
   "version": "3.8.5"
  }
 },
 "nbformat": 4,
 "nbformat_minor": 4
}
