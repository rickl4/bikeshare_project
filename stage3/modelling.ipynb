{
 "cells": [
  {
   "cell_type": "code",
   "execution_count": 1,
   "metadata": {},
   "outputs": [],
   "source": [
    "import numpy as np\n",
    "import pandas as pd\n",
    "import seaborn as sns\n",
    "import geopandas as gpd\n",
    "import matplotlib.pyplot as plt\n",
    "\n",
    "%matplotlib inline\n",
    "sns.set_context(\"notebook\")\n",
    "import warnings\n",
    "warnings.filterwarnings('ignore')"
   ]
  },
  {
   "cell_type": "markdown",
   "metadata": {},
   "source": [
    "# Data Preparation\n",
    "\n",
    "## Dataset Aggregation"
   ]
  },
  {
   "cell_type": "code",
   "execution_count": 2,
   "metadata": {},
   "outputs": [],
   "source": [
    "trips = pd.read_csv('trips_raw_data.csv')"
   ]
  },
  {
   "cell_type": "code",
   "execution_count": 3,
   "metadata": {},
   "outputs": [
    {
     "data": {
      "text/html": [
       "<div>\n",
       "<style scoped>\n",
       "    .dataframe tbody tr th:only-of-type {\n",
       "        vertical-align: middle;\n",
       "    }\n",
       "\n",
       "    .dataframe tbody tr th {\n",
       "        vertical-align: top;\n",
       "    }\n",
       "\n",
       "    .dataframe thead th {\n",
       "        text-align: right;\n",
       "    }\n",
       "</style>\n",
       "<table border=\"1\" class=\"dataframe\">\n",
       "  <thead>\n",
       "    <tr style=\"text-align: right;\">\n",
       "      <th></th>\n",
       "      <th>Unnamed: 0</th>\n",
       "      <th>Trip Id</th>\n",
       "      <th>Subscription Id</th>\n",
       "      <th>Trip Duration</th>\n",
       "      <th>Start Station Id</th>\n",
       "      <th>Start Time</th>\n",
       "      <th>Start Station Name</th>\n",
       "      <th>End Station Id</th>\n",
       "      <th>End Time</th>\n",
       "      <th>End Station Name</th>\n",
       "      <th>...</th>\n",
       "      <th>Temp (°C)</th>\n",
       "      <th>Dew Point Temp (°C)</th>\n",
       "      <th>Rel Hum (%)</th>\n",
       "      <th>Wind Dir (10s deg)</th>\n",
       "      <th>Wind Spd (km/h)</th>\n",
       "      <th>Visibility (km)</th>\n",
       "      <th>Stn Press (kPa)</th>\n",
       "      <th>Hmdx</th>\n",
       "      <th>Wind Chill</th>\n",
       "      <th>Weather</th>\n",
       "    </tr>\n",
       "  </thead>\n",
       "  <tbody>\n",
       "    <tr>\n",
       "      <th>0</th>\n",
       "      <td>58</td>\n",
       "      <td>712441</td>\n",
       "      <td>NaN</td>\n",
       "      <td>274</td>\n",
       "      <td>7006.0</td>\n",
       "      <td>2017-01-01 00:03:00-05:00</td>\n",
       "      <td>Bay St / College St (East Side)</td>\n",
       "      <td>7021.0</td>\n",
       "      <td>2017-01-01 00:08:00-05:00</td>\n",
       "      <td>Bay St / Albert St</td>\n",
       "      <td>...</td>\n",
       "      <td>1.5</td>\n",
       "      <td>-3.6</td>\n",
       "      <td>69.0</td>\n",
       "      <td>26.0</td>\n",
       "      <td>39.0</td>\n",
       "      <td>16.1</td>\n",
       "      <td>99.81</td>\n",
       "      <td>NaN</td>\n",
       "      <td>NaN</td>\n",
       "      <td>NaN</td>\n",
       "    </tr>\n",
       "    <tr>\n",
       "      <th>1</th>\n",
       "      <td>59</td>\n",
       "      <td>712442</td>\n",
       "      <td>NaN</td>\n",
       "      <td>538</td>\n",
       "      <td>7046.0</td>\n",
       "      <td>2017-01-01 00:03:00-05:00</td>\n",
       "      <td>Niagara St / Richmond St W</td>\n",
       "      <td>7147.0</td>\n",
       "      <td>2017-01-01 00:12:00-05:00</td>\n",
       "      <td>King St W / Fraser Ave</td>\n",
       "      <td>...</td>\n",
       "      <td>1.5</td>\n",
       "      <td>-3.6</td>\n",
       "      <td>69.0</td>\n",
       "      <td>26.0</td>\n",
       "      <td>39.0</td>\n",
       "      <td>16.1</td>\n",
       "      <td>99.81</td>\n",
       "      <td>NaN</td>\n",
       "      <td>NaN</td>\n",
       "      <td>NaN</td>\n",
       "    </tr>\n",
       "    <tr>\n",
       "      <th>2</th>\n",
       "      <td>60</td>\n",
       "      <td>712443</td>\n",
       "      <td>NaN</td>\n",
       "      <td>992</td>\n",
       "      <td>7048.0</td>\n",
       "      <td>2017-01-01 00:05:00-05:00</td>\n",
       "      <td>Front St W / Yonge St (Hockey Hall of Fame)</td>\n",
       "      <td>7089.0</td>\n",
       "      <td>2017-01-01 00:22:00-05:00</td>\n",
       "      <td>Church St  / Wood St</td>\n",
       "      <td>...</td>\n",
       "      <td>1.5</td>\n",
       "      <td>-3.6</td>\n",
       "      <td>69.0</td>\n",
       "      <td>26.0</td>\n",
       "      <td>39.0</td>\n",
       "      <td>16.1</td>\n",
       "      <td>99.81</td>\n",
       "      <td>NaN</td>\n",
       "      <td>NaN</td>\n",
       "      <td>NaN</td>\n",
       "    </tr>\n",
       "    <tr>\n",
       "      <th>3</th>\n",
       "      <td>61</td>\n",
       "      <td>712444</td>\n",
       "      <td>NaN</td>\n",
       "      <td>1005</td>\n",
       "      <td>7177.0</td>\n",
       "      <td>2017-01-01 00:09:00-05:00</td>\n",
       "      <td>East Liberty St / Pirandello St</td>\n",
       "      <td>7202.0</td>\n",
       "      <td>2017-01-01 00:26:00-05:00</td>\n",
       "      <td>Queen St W / York St (City Hall)</td>\n",
       "      <td>...</td>\n",
       "      <td>1.5</td>\n",
       "      <td>-3.6</td>\n",
       "      <td>69.0</td>\n",
       "      <td>26.0</td>\n",
       "      <td>39.0</td>\n",
       "      <td>16.1</td>\n",
       "      <td>99.81</td>\n",
       "      <td>NaN</td>\n",
       "      <td>NaN</td>\n",
       "      <td>NaN</td>\n",
       "    </tr>\n",
       "    <tr>\n",
       "      <th>4</th>\n",
       "      <td>62</td>\n",
       "      <td>712445</td>\n",
       "      <td>NaN</td>\n",
       "      <td>645</td>\n",
       "      <td>7203.0</td>\n",
       "      <td>2017-01-01 00:14:00-05:00</td>\n",
       "      <td>Bathurst St/Queens Quay(Billy Bishop Airport)</td>\n",
       "      <td>7010.0</td>\n",
       "      <td>2017-01-01 00:25:00-05:00</td>\n",
       "      <td>King St W / Spadina Ave</td>\n",
       "      <td>...</td>\n",
       "      <td>1.5</td>\n",
       "      <td>-3.6</td>\n",
       "      <td>69.0</td>\n",
       "      <td>26.0</td>\n",
       "      <td>39.0</td>\n",
       "      <td>16.1</td>\n",
       "      <td>99.81</td>\n",
       "      <td>NaN</td>\n",
       "      <td>NaN</td>\n",
       "      <td>NaN</td>\n",
       "    </tr>\n",
       "  </tbody>\n",
       "</table>\n",
       "<p>5 rows × 24 columns</p>\n",
       "</div>"
      ],
      "text/plain": [
       "   Unnamed: 0  Trip Id  Subscription Id  Trip Duration  Start Station Id  \\\n",
       "0          58   712441              NaN            274            7006.0   \n",
       "1          59   712442              NaN            538            7046.0   \n",
       "2          60   712443              NaN            992            7048.0   \n",
       "3          61   712444              NaN           1005            7177.0   \n",
       "4          62   712445              NaN            645            7203.0   \n",
       "\n",
       "                  Start Time                             Start Station Name  \\\n",
       "0  2017-01-01 00:03:00-05:00                Bay St / College St (East Side)   \n",
       "1  2017-01-01 00:03:00-05:00                     Niagara St / Richmond St W   \n",
       "2  2017-01-01 00:05:00-05:00    Front St W / Yonge St (Hockey Hall of Fame)   \n",
       "3  2017-01-01 00:09:00-05:00                East Liberty St / Pirandello St   \n",
       "4  2017-01-01 00:14:00-05:00  Bathurst St/Queens Quay(Billy Bishop Airport)   \n",
       "\n",
       "   End Station Id                   End Time  \\\n",
       "0          7021.0  2017-01-01 00:08:00-05:00   \n",
       "1          7147.0  2017-01-01 00:12:00-05:00   \n",
       "2          7089.0  2017-01-01 00:22:00-05:00   \n",
       "3          7202.0  2017-01-01 00:26:00-05:00   \n",
       "4          7010.0  2017-01-01 00:25:00-05:00   \n",
       "\n",
       "                   End Station Name  ...  Temp (°C) Dew Point Temp (°C)  \\\n",
       "0                Bay St / Albert St  ...        1.5                -3.6   \n",
       "1            King St W / Fraser Ave  ...        1.5                -3.6   \n",
       "2              Church St  / Wood St  ...        1.5                -3.6   \n",
       "3  Queen St W / York St (City Hall)  ...        1.5                -3.6   \n",
       "4           King St W / Spadina Ave  ...        1.5                -3.6   \n",
       "\n",
       "  Rel Hum (%) Wind Dir (10s deg)  Wind Spd (km/h)  Visibility (km)  \\\n",
       "0        69.0               26.0             39.0             16.1   \n",
       "1        69.0               26.0             39.0             16.1   \n",
       "2        69.0               26.0             39.0             16.1   \n",
       "3        69.0               26.0             39.0             16.1   \n",
       "4        69.0               26.0             39.0             16.1   \n",
       "\n",
       "   Stn Press (kPa)  Hmdx  Wind Chill  Weather  \n",
       "0            99.81   NaN         NaN      NaN  \n",
       "1            99.81   NaN         NaN      NaN  \n",
       "2            99.81   NaN         NaN      NaN  \n",
       "3            99.81   NaN         NaN      NaN  \n",
       "4            99.81   NaN         NaN      NaN  \n",
       "\n",
       "[5 rows x 24 columns]"
      ]
     },
     "execution_count": 3,
     "metadata": {},
     "output_type": "execute_result"
    }
   ],
   "source": [
    "trips.head()"
   ]
  },
  {
   "cell_type": "code",
   "execution_count": 4,
   "metadata": {},
   "outputs": [],
   "source": [
    "trips['Start Time'] = pd.DatetimeIndex(trips['Start Time'])"
   ]
  },
  {
   "cell_type": "markdown",
   "metadata": {},
   "source": [
    "Our model will be focused on predicting BikeShare trips for a \"normal\" year. Whether that future years represent a normal year is unknown, but we also can't assume any of the trends in 2020 will continue.\n",
    "\n",
    "We will limit the model to look only at 2019 data, from January 1st to December 31st."
   ]
  },
  {
   "cell_type": "code",
   "execution_count": 5,
   "metadata": {},
   "outputs": [],
   "source": [
    "trips = trips[trips['Start Time'].dt.year == 2019]"
   ]
  },
  {
   "cell_type": "markdown",
   "metadata": {},
   "source": [
    "## Filling Missing Values"
   ]
  },
  {
   "cell_type": "code",
   "execution_count": 6,
   "metadata": {},
   "outputs": [
    {
     "data": {
      "text/html": [
       "<div>\n",
       "<style scoped>\n",
       "    .dataframe tbody tr th:only-of-type {\n",
       "        vertical-align: middle;\n",
       "    }\n",
       "\n",
       "    .dataframe tbody tr th {\n",
       "        vertical-align: top;\n",
       "    }\n",
       "\n",
       "    .dataframe thead th {\n",
       "        text-align: right;\n",
       "    }\n",
       "</style>\n",
       "<table border=\"1\" class=\"dataframe\">\n",
       "  <thead>\n",
       "    <tr style=\"text-align: right;\">\n",
       "      <th></th>\n",
       "      <th>hour</th>\n",
       "      <th>Temp (°C)</th>\n",
       "    </tr>\n",
       "    <tr>\n",
       "      <th>date</th>\n",
       "      <th></th>\n",
       "      <th></th>\n",
       "    </tr>\n",
       "  </thead>\n",
       "  <tbody>\n",
       "    <tr>\n",
       "      <th>2019-03-20</th>\n",
       "      <td>1</td>\n",
       "      <td>0</td>\n",
       "    </tr>\n",
       "    <tr>\n",
       "      <th>2019-05-22</th>\n",
       "      <td>8</td>\n",
       "      <td>0</td>\n",
       "    </tr>\n",
       "    <tr>\n",
       "      <th>2019-05-23</th>\n",
       "      <td>8</td>\n",
       "      <td>0</td>\n",
       "    </tr>\n",
       "    <tr>\n",
       "      <th>2019-05-24</th>\n",
       "      <td>12</td>\n",
       "      <td>0</td>\n",
       "    </tr>\n",
       "    <tr>\n",
       "      <th>2019-06-01</th>\n",
       "      <td>1</td>\n",
       "      <td>0</td>\n",
       "    </tr>\n",
       "    <tr>\n",
       "      <th>2019-06-02</th>\n",
       "      <td>19</td>\n",
       "      <td>0</td>\n",
       "    </tr>\n",
       "    <tr>\n",
       "      <th>2019-06-03</th>\n",
       "      <td>16</td>\n",
       "      <td>0</td>\n",
       "    </tr>\n",
       "    <tr>\n",
       "      <th>2019-06-04</th>\n",
       "      <td>13</td>\n",
       "      <td>0</td>\n",
       "    </tr>\n",
       "    <tr>\n",
       "      <th>2019-06-05</th>\n",
       "      <td>3</td>\n",
       "      <td>0</td>\n",
       "    </tr>\n",
       "    <tr>\n",
       "      <th>2019-06-16</th>\n",
       "      <td>2</td>\n",
       "      <td>0</td>\n",
       "    </tr>\n",
       "    <tr>\n",
       "      <th>2019-06-18</th>\n",
       "      <td>1</td>\n",
       "      <td>0</td>\n",
       "    </tr>\n",
       "    <tr>\n",
       "      <th>2019-06-19</th>\n",
       "      <td>4</td>\n",
       "      <td>0</td>\n",
       "    </tr>\n",
       "    <tr>\n",
       "      <th>2019-07-04</th>\n",
       "      <td>3</td>\n",
       "      <td>0</td>\n",
       "    </tr>\n",
       "    <tr>\n",
       "      <th>2019-07-18</th>\n",
       "      <td>4</td>\n",
       "      <td>0</td>\n",
       "    </tr>\n",
       "  </tbody>\n",
       "</table>\n",
       "</div>"
      ],
      "text/plain": [
       "            hour  Temp (°C)\n",
       "date                       \n",
       "2019-03-20     1          0\n",
       "2019-05-22     8          0\n",
       "2019-05-23     8          0\n",
       "2019-05-24    12          0\n",
       "2019-06-01     1          0\n",
       "2019-06-02    19          0\n",
       "2019-06-03    16          0\n",
       "2019-06-04    13          0\n",
       "2019-06-05     3          0\n",
       "2019-06-16     2          0\n",
       "2019-06-18     1          0\n",
       "2019-06-19     4          0\n",
       "2019-07-04     3          0\n",
       "2019-07-18     4          0"
      ]
     },
     "execution_count": 6,
     "metadata": {},
     "output_type": "execute_result"
    }
   ],
   "source": [
    "trips_temp = trips[['Start Time','Temp (°C)']]\n",
    "\n",
    "trips_temp['date'] = trips['Start Time'].dt.date\n",
    "trips_temp['hour'] = trips['Start Time'].dt.hour\n",
    "\n",
    "trips_temp = trips_temp[['date', 'hour','Temp (°C)']]\n",
    "\n",
    "trips_temp = trips_temp.drop_duplicates(['date', 'hour'])\n",
    "trips_temp[trips_temp['Temp (°C)'].isna()].groupby('date').count()\n",
    "trips_temp = trips_temp[['date', 'hour','Temp (°C)']]\n",
    "\n",
    "trips_temp[trips_temp['Temp (°C)'].isna()].groupby('date').count()"
   ]
  },
  {
   "cell_type": "code",
   "execution_count": 7,
   "metadata": {},
   "outputs": [
    {
     "data": {
      "text/html": [
       "<div>\n",
       "<style scoped>\n",
       "    .dataframe tbody tr th:only-of-type {\n",
       "        vertical-align: middle;\n",
       "    }\n",
       "\n",
       "    .dataframe tbody tr th {\n",
       "        vertical-align: top;\n",
       "    }\n",
       "\n",
       "    .dataframe thead th {\n",
       "        text-align: right;\n",
       "    }\n",
       "</style>\n",
       "<table border=\"1\" class=\"dataframe\">\n",
       "  <thead>\n",
       "    <tr style=\"text-align: right;\">\n",
       "      <th></th>\n",
       "      <th>hour</th>\n",
       "      <th>Wind Spd (km/h)</th>\n",
       "    </tr>\n",
       "    <tr>\n",
       "      <th>date</th>\n",
       "      <th></th>\n",
       "      <th></th>\n",
       "    </tr>\n",
       "  </thead>\n",
       "  <tbody>\n",
       "    <tr>\n",
       "      <th>2019-03-19</th>\n",
       "      <td>2</td>\n",
       "      <td>0</td>\n",
       "    </tr>\n",
       "    <tr>\n",
       "      <th>2019-03-20</th>\n",
       "      <td>1</td>\n",
       "      <td>0</td>\n",
       "    </tr>\n",
       "    <tr>\n",
       "      <th>2019-05-17</th>\n",
       "      <td>4</td>\n",
       "      <td>0</td>\n",
       "    </tr>\n",
       "    <tr>\n",
       "      <th>2019-05-22</th>\n",
       "      <td>8</td>\n",
       "      <td>0</td>\n",
       "    </tr>\n",
       "    <tr>\n",
       "      <th>2019-06-12</th>\n",
       "      <td>1</td>\n",
       "      <td>0</td>\n",
       "    </tr>\n",
       "    <tr>\n",
       "      <th>2019-07-04</th>\n",
       "      <td>3</td>\n",
       "      <td>0</td>\n",
       "    </tr>\n",
       "    <tr>\n",
       "      <th>2019-07-18</th>\n",
       "      <td>4</td>\n",
       "      <td>0</td>\n",
       "    </tr>\n",
       "  </tbody>\n",
       "</table>\n",
       "</div>"
      ],
      "text/plain": [
       "            hour  Wind Spd (km/h)\n",
       "date                             \n",
       "2019-03-19     2                0\n",
       "2019-03-20     1                0\n",
       "2019-05-17     4                0\n",
       "2019-05-22     8                0\n",
       "2019-06-12     1                0\n",
       "2019-07-04     3                0\n",
       "2019-07-18     4                0"
      ]
     },
     "execution_count": 7,
     "metadata": {},
     "output_type": "execute_result"
    }
   ],
   "source": [
    "trips_wind = trips[['Start Time','Wind Spd (km/h)']]\n",
    "\n",
    "trips_wind['date'] = trips['Start Time'].dt.date\n",
    "trips_wind['hour'] = trips['Start Time'].dt.hour\n",
    "\n",
    "trips_wind = trips_wind[['date', 'hour','Wind Spd (km/h)']]\n",
    "\n",
    "trips_wind = trips_wind.drop_duplicates(['date', 'hour'])\n",
    "trips_wind[trips_wind['Wind Spd (km/h)'].isna()].groupby('date').count()\n",
    "trips_wind = trips_wind[['date', 'hour','Wind Spd (km/h)']]\n",
    "\n",
    "trips_wind[trips_wind['Wind Spd (km/h)'].isna()].groupby('date').count()"
   ]
  },
  {
   "cell_type": "code",
   "execution_count": 8,
   "metadata": {},
   "outputs": [],
   "source": [
    "weather_avg = trips\n",
    "weather_avg['month'] = trips['Start Time'].dt.month\n",
    "weather_avg['hour'] = trips['Start Time'].dt.hour\n",
    "weather_avg = weather_avg.groupby(['month', 'hour']).agg({'Temp (°C)':'mean', 'Wind Spd (km/h)':'mean'}).reset_index()"
   ]
  },
  {
   "cell_type": "code",
   "execution_count": 9,
   "metadata": {},
   "outputs": [
    {
     "data": {
      "text/html": [
       "<div>\n",
       "<style scoped>\n",
       "    .dataframe tbody tr th:only-of-type {\n",
       "        vertical-align: middle;\n",
       "    }\n",
       "\n",
       "    .dataframe tbody tr th {\n",
       "        vertical-align: top;\n",
       "    }\n",
       "\n",
       "    .dataframe thead th {\n",
       "        text-align: right;\n",
       "    }\n",
       "</style>\n",
       "<table border=\"1\" class=\"dataframe\">\n",
       "  <thead>\n",
       "    <tr style=\"text-align: right;\">\n",
       "      <th></th>\n",
       "      <th>month</th>\n",
       "      <th>hour</th>\n",
       "      <th>Temp (°C)</th>\n",
       "      <th>Wind Spd (km/h)</th>\n",
       "    </tr>\n",
       "  </thead>\n",
       "  <tbody>\n",
       "    <tr>\n",
       "      <th>0</th>\n",
       "      <td>1</td>\n",
       "      <td>0</td>\n",
       "      <td>-1.551848</td>\n",
       "      <td>18.861396</td>\n",
       "    </tr>\n",
       "    <tr>\n",
       "      <th>1</th>\n",
       "      <td>1</td>\n",
       "      <td>1</td>\n",
       "      <td>-1.297456</td>\n",
       "      <td>20.106518</td>\n",
       "    </tr>\n",
       "    <tr>\n",
       "      <th>2</th>\n",
       "      <td>1</td>\n",
       "      <td>2</td>\n",
       "      <td>-1.407176</td>\n",
       "      <td>20.717593</td>\n",
       "    </tr>\n",
       "    <tr>\n",
       "      <th>3</th>\n",
       "      <td>1</td>\n",
       "      <td>3</td>\n",
       "      <td>-1.961066</td>\n",
       "      <td>22.918033</td>\n",
       "    </tr>\n",
       "    <tr>\n",
       "      <th>4</th>\n",
       "      <td>1</td>\n",
       "      <td>4</td>\n",
       "      <td>-2.515432</td>\n",
       "      <td>23.283951</td>\n",
       "    </tr>\n",
       "    <tr>\n",
       "      <th>...</th>\n",
       "      <td>...</td>\n",
       "      <td>...</td>\n",
       "      <td>...</td>\n",
       "      <td>...</td>\n",
       "    </tr>\n",
       "    <tr>\n",
       "      <th>283</th>\n",
       "      <td>12</td>\n",
       "      <td>19</td>\n",
       "      <td>1.207036</td>\n",
       "      <td>17.340282</td>\n",
       "    </tr>\n",
       "    <tr>\n",
       "      <th>284</th>\n",
       "      <td>12</td>\n",
       "      <td>20</td>\n",
       "      <td>1.265502</td>\n",
       "      <td>17.313850</td>\n",
       "    </tr>\n",
       "    <tr>\n",
       "      <th>285</th>\n",
       "      <td>12</td>\n",
       "      <td>21</td>\n",
       "      <td>1.156430</td>\n",
       "      <td>16.766685</td>\n",
       "    </tr>\n",
       "    <tr>\n",
       "      <th>286</th>\n",
       "      <td>12</td>\n",
       "      <td>22</td>\n",
       "      <td>1.205814</td>\n",
       "      <td>16.363543</td>\n",
       "    </tr>\n",
       "    <tr>\n",
       "      <th>287</th>\n",
       "      <td>12</td>\n",
       "      <td>23</td>\n",
       "      <td>1.048906</td>\n",
       "      <td>15.816237</td>\n",
       "    </tr>\n",
       "  </tbody>\n",
       "</table>\n",
       "<p>288 rows × 4 columns</p>\n",
       "</div>"
      ],
      "text/plain": [
       "     month  hour  Temp (°C)  Wind Spd (km/h)\n",
       "0        1     0  -1.551848        18.861396\n",
       "1        1     1  -1.297456        20.106518\n",
       "2        1     2  -1.407176        20.717593\n",
       "3        1     3  -1.961066        22.918033\n",
       "4        1     4  -2.515432        23.283951\n",
       "..     ...   ...        ...              ...\n",
       "283     12    19   1.207036        17.340282\n",
       "284     12    20   1.265502        17.313850\n",
       "285     12    21   1.156430        16.766685\n",
       "286     12    22   1.205814        16.363543\n",
       "287     12    23   1.048906        15.816237\n",
       "\n",
       "[288 rows x 4 columns]"
      ]
     },
     "execution_count": 9,
     "metadata": {},
     "output_type": "execute_result"
    }
   ],
   "source": [
    "weather_avg"
   ]
  },
  {
   "cell_type": "markdown",
   "metadata": {},
   "source": [
    "# Feature Engineering"
   ]
  },
  {
   "cell_type": "code",
   "execution_count": 10,
   "metadata": {},
   "outputs": [],
   "source": [
    "from sklearn.model_selection import train_test_split"
   ]
  },
  {
   "cell_type": "code",
   "execution_count": 11,
   "metadata": {},
   "outputs": [],
   "source": [
    "def aggregate_trips(df):\n",
    "    df['Start Time'] = df['Start Time'].dt.floor('H')\n",
    "    \n",
    "    df_hourly = df.groupby('Start Time').agg({'Trip Id':'count', 'Weather':'first',\n",
    "                                              'Wind Spd (km/h)': 'first', 'Temp (°C)': 'first'})\n",
    "    df_hourly = df_hourly.reset_index()\n",
    "    \n",
    "    for index in df_hourly[df_hourly['Temp (°C)'].isna()].index:\n",
    "        mon = df_hourly.loc[index, 'Start Time'].month\n",
    "        hr = df_hourly.loc[index, 'Start Time'].hour\n",
    "        avg_temp = weather_avg[(weather_avg['month'] == mon) & (weather_avg['hour'] == hr)].iloc[0,2]\n",
    "\n",
    "        df_hourly.loc[index, 'Temp (°C)'] = avg_temp\n",
    "        \n",
    "    for index in df_hourly[df_hourly['Wind Spd (km/h)'].isna()].index:\n",
    "        mon = df_hourly.loc[index, 'Start Time'].month\n",
    "        hr = df_hourly.loc[index, 'Start Time'].hour\n",
    "        avg_wind = weather_avg[(weather_avg['month'] == mon) & (weather_avg['hour'] == hr)].iloc[0,2]\n",
    "\n",
    "\n",
    "        df_hourly.loc[index, 'Wind Spd (km/h)'] = avg_wind\n",
    "    \n",
    "    df_hourly = df_hourly.rename(columns = {'Trip Id': 'Trips', 'Wind Spd (km/h)':'Wind', 'Temp (°C)': 'Temp'})\n",
    "    \n",
    "    return df_hourly"
   ]
  },
  {
   "cell_type": "code",
   "execution_count": 31,
   "metadata": {},
   "outputs": [],
   "source": [
    "trips_agg = aggregate_trips(trips)"
   ]
  },
  {
   "cell_type": "code",
   "execution_count": 32,
   "metadata": {},
   "outputs": [],
   "source": [
    "train, test = train_test_split(trips_agg, train_size=0.7, \n",
    "                               test_size=0.3, random_state=0)\n",
    "val, test = train_test_split(test, train_size=0.5,\n",
    "                             test_size=0.5, random_state=0)"
   ]
  },
  {
   "cell_type": "code",
   "execution_count": 39,
   "metadata": {},
   "outputs": [
    {
     "data": {
      "text/html": [
       "<div>\n",
       "<style scoped>\n",
       "    .dataframe tbody tr th:only-of-type {\n",
       "        vertical-align: middle;\n",
       "    }\n",
       "\n",
       "    .dataframe tbody tr th {\n",
       "        vertical-align: top;\n",
       "    }\n",
       "\n",
       "    .dataframe thead th {\n",
       "        text-align: right;\n",
       "    }\n",
       "</style>\n",
       "<table border=\"1\" class=\"dataframe\">\n",
       "  <thead>\n",
       "    <tr style=\"text-align: right;\">\n",
       "      <th></th>\n",
       "      <th>Start Time</th>\n",
       "      <th>Trips</th>\n",
       "      <th>Weather</th>\n",
       "      <th>Wind</th>\n",
       "      <th>Temp</th>\n",
       "    </tr>\n",
       "  </thead>\n",
       "  <tbody>\n",
       "    <tr>\n",
       "      <th>0</th>\n",
       "      <td>2019-01-01 00:00:00-05:00</td>\n",
       "      <td>20</td>\n",
       "      <td>Rain,Fog</td>\n",
       "      <td>11.0</td>\n",
       "      <td>4.3</td>\n",
       "    </tr>\n",
       "    <tr>\n",
       "      <th>1</th>\n",
       "      <td>2019-01-01 01:00:00-05:00</td>\n",
       "      <td>30</td>\n",
       "      <td>Rain,Fog</td>\n",
       "      <td>4.0</td>\n",
       "      <td>5.1</td>\n",
       "    </tr>\n",
       "    <tr>\n",
       "      <th>2</th>\n",
       "      <td>2019-01-01 02:00:00-05:00</td>\n",
       "      <td>20</td>\n",
       "      <td>Rain,Fog</td>\n",
       "      <td>28.0</td>\n",
       "      <td>5.9</td>\n",
       "    </tr>\n",
       "    <tr>\n",
       "      <th>3</th>\n",
       "      <td>2019-01-01 03:00:00-05:00</td>\n",
       "      <td>13</td>\n",
       "      <td>NaN</td>\n",
       "      <td>34.0</td>\n",
       "      <td>3.3</td>\n",
       "    </tr>\n",
       "    <tr>\n",
       "      <th>4</th>\n",
       "      <td>2019-01-01 04:00:00-05:00</td>\n",
       "      <td>7</td>\n",
       "      <td>NaN</td>\n",
       "      <td>28.0</td>\n",
       "      <td>2.8</td>\n",
       "    </tr>\n",
       "  </tbody>\n",
       "</table>\n",
       "</div>"
      ],
      "text/plain": [
       "                 Start Time  Trips   Weather  Wind  Temp\n",
       "0 2019-01-01 00:00:00-05:00     20  Rain,Fog  11.0   4.3\n",
       "1 2019-01-01 01:00:00-05:00     30  Rain,Fog   4.0   5.1\n",
       "2 2019-01-01 02:00:00-05:00     20  Rain,Fog  28.0   5.9\n",
       "3 2019-01-01 03:00:00-05:00     13       NaN  34.0   3.3\n",
       "4 2019-01-01 04:00:00-05:00      7       NaN  28.0   2.8"
      ]
     },
     "execution_count": 39,
     "metadata": {},
     "output_type": "execute_result"
    }
   ],
   "source": [
    "trips_agg.head()"
   ]
  },
  {
   "cell_type": "markdown",
   "metadata": {},
   "source": [
    "## Chosen Parameters\n",
    "\n",
    "* Wind Speed\n",
    "* Hour of Day\n",
    "* Month\n",
    "* Weekend vs Weekday - if weekend or statutory holiday, then 1, otherwise 0\n",
    "* Temperature - binned with this distribution [-30,0,10,20,30,40]\n",
    "* Precipitation - if precipitation present, then 1, otherwise 0"
   ]
  },
  {
   "cell_type": "code",
   "execution_count": 14,
   "metadata": {},
   "outputs": [],
   "source": [
    "def weather_features(df):\n",
    "    \n",
    "    #df['Temp'] = np.digitize(df.loc[:, 'Temp'], [-40,0,10,20,30,40])\n",
    "    df['Weather'] = np.where(df['Weather'].isna(), 0, 1)\n",
    "    \n",
    "    return df"
   ]
  },
  {
   "cell_type": "code",
   "execution_count": 15,
   "metadata": {},
   "outputs": [
    {
     "name": "stdout",
     "output_type": "stream",
     "text": [
      "Requirement already satisfied: holidays in /Users/jimzhang/opt/anaconda3/lib/python3.8/site-packages (0.10.5.2)\n",
      "Requirement already satisfied: convertdate>=2.3.0 in /Users/jimzhang/opt/anaconda3/lib/python3.8/site-packages (from holidays) (2.3.2)\n",
      "Requirement already satisfied: hijri-converter in /Users/jimzhang/opt/anaconda3/lib/python3.8/site-packages (from holidays) (2.1.1)\n",
      "Requirement already satisfied: six in /Users/jimzhang/opt/anaconda3/lib/python3.8/site-packages (from holidays) (1.15.0)\n",
      "Requirement already satisfied: python-dateutil in /Users/jimzhang/opt/anaconda3/lib/python3.8/site-packages (from holidays) (2.8.1)\n",
      "Requirement already satisfied: korean-lunar-calendar in /Users/jimzhang/opt/anaconda3/lib/python3.8/site-packages (from holidays) (0.2.1)\n",
      "Requirement already satisfied: pymeeus<=1,>=0.3.13 in /Users/jimzhang/opt/anaconda3/lib/python3.8/site-packages (from convertdate>=2.3.0->holidays) (0.5.11)\n",
      "Requirement already satisfied: pytz>=2014.10 in /Users/jimzhang/opt/anaconda3/lib/python3.8/site-packages (from convertdate>=2.3.0->holidays) (2020.1)\n"
     ]
    }
   ],
   "source": [
    "!pip install holidays"
   ]
  },
  {
   "cell_type": "code",
   "execution_count": 16,
   "metadata": {},
   "outputs": [],
   "source": [
    "from datetime import date\n",
    "import holidays"
   ]
  },
  {
   "cell_type": "code",
   "execution_count": 17,
   "metadata": {
    "scrolled": true
   },
   "outputs": [
    {
     "name": "stdout",
     "output_type": "stream",
     "text": [
      "2019-01-01\n",
      "2019-02-18\n",
      "2019-04-19\n",
      "2019-05-20\n",
      "2019-07-01\n",
      "2019-08-05\n",
      "2019-09-02\n",
      "2019-10-14\n",
      "2019-12-25\n",
      "2019-12-26\n"
     ]
    }
   ],
   "source": [
    "on_hol = holidays.CA(prov = 'ON', years = 2019)\n",
    "for i in on_hol:\n",
    "    print(i)"
   ]
  },
  {
   "cell_type": "code",
   "execution_count": 18,
   "metadata": {},
   "outputs": [],
   "source": [
    "def temporal_features(df):\n",
    "    \n",
    "    df['Month'] = df['Start Time'].dt.month\n",
    "    df['Hour'] = df['Start Time'].dt.hour\n",
    "    df['dow'] = np.where(df['Start Time'].dt.dayofweek > 4, 1, 0)\n",
    "    df['dow'] = np.where(df['Start Time'].dt.date.isin(on_hol), 1, 0)\n",
    "    \n",
    "    return df"
   ]
  },
  {
   "cell_type": "code",
   "execution_count": 44,
   "metadata": {},
   "outputs": [],
   "source": [
    "from sklearn.preprocessing import MinMaxScaler \n",
    "\n",
    "def process_data(df, cat_features, scaled_features, binary_features):\n",
    "    \n",
    "    df = weather_features(df)\n",
    "    df = temporal_features(df)\n",
    "    \n",
    "    df = df.drop(columns = ['Start Time'])\n",
    "    y = df['Trips']\n",
    "    \n",
    "    if binary_features != None:\n",
    "        binary = df[binary_features] \n",
    "    else:\n",
    "        binary = None\n",
    "    \n",
    "    if (scaled_features != None) & (cat_features != None):\n",
    "        categoricals = [pd.get_dummies(df[s], prefix=s, drop_first=False) for s in cat_features]\n",
    "        scaler = MinMaxScaler()\n",
    "        scaler.fit(df[scaled_features])\n",
    "\n",
    "        \n",
    "        scaled = df[scaled_features]\n",
    "\n",
    "        scaled.iloc[:, :] = scaler.transform(scaled) \n",
    "        x = pd.concat([scaled] + [binary] + categoricals, axis=1)\n",
    "    elif (scaled_features == None) & (cat_features != None):    \n",
    "        categoricals = [pd.get_dummies(df[s], prefix=s, drop_first=False) for s in cat_features]\n",
    "        x = pd.concat(categoricals + [binary], axis=1)\n",
    "        \n",
    "    elif (scaled_features != None) & (cat_features == None):\n",
    "            \n",
    "\n",
    "        scaler = MinMaxScaler()\n",
    "        scaler.fit(df[scaled_features])\n",
    "\n",
    "        scaled = df[scaled_features]\n",
    "\n",
    "        scaled.iloc[:, :] = scaler.transform(scaled) \n",
    "        x = pd.concat([scaled] + [binary], axis=1)\n",
    "        \n",
    "    else:\n",
    "        x = pd.concat([binary], axis=1)\n",
    "        \n",
    "\n",
    "    \n",
    "    return x, y"
   ]
  },
  {
   "cell_type": "markdown",
   "metadata": {},
   "source": [
    "# Model Fitting\n",
    "In this section, we will be using linear regression model to predict ridership "
   ]
  },
  {
   "cell_type": "markdown",
   "metadata": {},
   "source": [
    "First defining the RMSE calculation"
   ]
  },
  {
   "cell_type": "code",
   "execution_count": 45,
   "metadata": {},
   "outputs": [],
   "source": [
    "def rmse(errors):\n",
    "    return np.sqrt(np.sum(errors ** 2)/len(errors))"
   ]
  },
  {
   "cell_type": "markdown",
   "metadata": {},
   "source": [
    "## Constant RMSE\n",
    "Next, we will establish a baseline model to compare, which will be our constant RMSE "
   ]
  },
  {
   "cell_type": "code",
   "execution_count": 46,
   "metadata": {
    "scrolled": true
   },
   "outputs": [
    {
     "name": "stdout",
     "output_type": "stream",
     "text": [
      "322.95655430558554\n"
     ]
    }
   ],
   "source": [
    "constant_rmse = rmse(val['Trips'] - val['Trips'].mean())\n",
    "print(constant_rmse)"
   ]
  },
  {
   "cell_type": "markdown",
   "metadata": {},
   "source": [
    "## Simple RMSE\n",
    "Once a baseline is established, we will now create a simple model that predicts trips with only one variable."
   ]
  },
  {
   "cell_type": "code",
   "execution_count": 47,
   "metadata": {},
   "outputs": [],
   "source": [
    "x_train_simple, y_train_simple = process_data(train, None, ['Wind'], None)\n",
    "\n",
    "x_val_simple, y_val_simple = process_data(val, None, ['Wind'], None)"
   ]
  },
  {
   "cell_type": "code",
   "execution_count": 48,
   "metadata": {},
   "outputs": [
    {
     "name": "stdout",
     "output_type": "stream",
     "text": [
      "322.49818371084285\n"
     ]
    }
   ],
   "source": [
    "from sklearn.linear_model import LinearRegression\n",
    "\n",
    "simple_model = LinearRegression(fit_intercept=True)\n",
    "\n",
    "simple_model.fit(x_train_simple, y_train_simple)\n",
    "y_predicted = simple_model.predict(x_val_simple)\n",
    "\n",
    "simple_rmse = rmse(y_predicted - y_val_simple)\n",
    "print(simple_rmse)"
   ]
  },
  {
   "cell_type": "markdown",
   "metadata": {},
   "source": [
    "Checking the estimated coefficient for the model, for this case there should be only one "
   ]
  },
  {
   "cell_type": "code",
   "execution_count": 640,
   "metadata": {
    "scrolled": true
   },
   "outputs": [
    {
     "data": {
      "text/html": [
       "<div>\n",
       "<style scoped>\n",
       "    .dataframe tbody tr th:only-of-type {\n",
       "        vertical-align: middle;\n",
       "    }\n",
       "\n",
       "    .dataframe tbody tr th {\n",
       "        vertical-align: top;\n",
       "    }\n",
       "\n",
       "    .dataframe thead th {\n",
       "        text-align: right;\n",
       "    }\n",
       "</style>\n",
       "<table border=\"1\" class=\"dataframe\">\n",
       "  <thead>\n",
       "    <tr style=\"text-align: right;\">\n",
       "      <th></th>\n",
       "      <th>Coefficients</th>\n",
       "    </tr>\n",
       "  </thead>\n",
       "  <tbody>\n",
       "    <tr>\n",
       "      <th>Wind</th>\n",
       "      <td>-80.858185</td>\n",
       "    </tr>\n",
       "  </tbody>\n",
       "</table>\n",
       "</div>"
      ],
      "text/plain": [
       "      Coefficients\n",
       "Wind    -80.858185"
      ]
     },
     "execution_count": 640,
     "metadata": {},
     "output_type": "execute_result"
    }
   ],
   "source": [
    "cdf = pd.DataFrame(simple_model.coef_, x_train_simple.columns, columns=['Coefficients'])\n",
    "cdf"
   ]
  },
  {
   "cell_type": "markdown",
   "metadata": {},
   "source": [
    "We can see that there is a slight improvement for the RMSE but still not ideal"
   ]
  },
  {
   "cell_type": "markdown",
   "metadata": {},
   "source": [
    "## Linear RMSE\n",
    "Now we will derive a linear regression model using all the features provided above "
   ]
  },
  {
   "cell_type": "code",
   "execution_count": 74,
   "metadata": {},
   "outputs": [],
   "source": [
    "x_train, y_train = process_data(train, ['Hour', 'Month'], ['Wind','Temp'], ['dow', 'Weather'])\n",
    "x_val, y_val = process_data(val, ['Hour', 'Month'], ['Wind','Temp'], ['dow', 'Weather'])"
   ]
  },
  {
   "cell_type": "code",
   "execution_count": 75,
   "metadata": {},
   "outputs": [
    {
     "name": "stdout",
     "output_type": "stream",
     "text": [
      "228.6305016263353\n"
     ]
    }
   ],
   "source": [
    "linear_model = LinearRegression(fit_intercept=True)\n",
    "\n",
    "linear_model.fit(x_train, y_train)\n",
    "\n",
    "y_predicted = linear_model.predict(x_val)\n",
    "\n",
    "linear_rmse = rmse(y_predicted - y_val)\n",
    "print(linear_rmse)"
   ]
  },
  {
   "cell_type": "code",
   "execution_count": 51,
   "metadata": {},
   "outputs": [
    {
     "data": {
      "text/html": [
       "<div>\n",
       "<style scoped>\n",
       "    .dataframe tbody tr th:only-of-type {\n",
       "        vertical-align: middle;\n",
       "    }\n",
       "\n",
       "    .dataframe tbody tr th {\n",
       "        vertical-align: top;\n",
       "    }\n",
       "\n",
       "    .dataframe thead th {\n",
       "        text-align: right;\n",
       "    }\n",
       "</style>\n",
       "<table border=\"1\" class=\"dataframe\">\n",
       "  <thead>\n",
       "    <tr style=\"text-align: right;\">\n",
       "      <th></th>\n",
       "      <th>Wind</th>\n",
       "      <th>Temp</th>\n",
       "      <th>dow</th>\n",
       "      <th>Weather</th>\n",
       "      <th>Hour_0</th>\n",
       "      <th>Hour_1</th>\n",
       "      <th>Hour_2</th>\n",
       "      <th>Hour_3</th>\n",
       "      <th>Hour_4</th>\n",
       "      <th>Hour_5</th>\n",
       "      <th>...</th>\n",
       "      <th>Month_3</th>\n",
       "      <th>Month_4</th>\n",
       "      <th>Month_5</th>\n",
       "      <th>Month_6</th>\n",
       "      <th>Month_7</th>\n",
       "      <th>Month_8</th>\n",
       "      <th>Month_9</th>\n",
       "      <th>Month_10</th>\n",
       "      <th>Month_11</th>\n",
       "      <th>Month_12</th>\n",
       "    </tr>\n",
       "  </thead>\n",
       "  <tbody>\n",
       "    <tr>\n",
       "      <th>Coefficients</th>\n",
       "      <td>-41.950296</td>\n",
       "      <td>414.615206</td>\n",
       "      <td>-148.755323</td>\n",
       "      <td>7.266882e+13</td>\n",
       "      <td>-2.518294e+13</td>\n",
       "      <td>-2.518294e+13</td>\n",
       "      <td>-2.518294e+13</td>\n",
       "      <td>-2.518294e+13</td>\n",
       "      <td>-2.518294e+13</td>\n",
       "      <td>-2.518294e+13</td>\n",
       "      <td>...</td>\n",
       "      <td>-4.748588e+13</td>\n",
       "      <td>-4.748588e+13</td>\n",
       "      <td>-4.748588e+13</td>\n",
       "      <td>-4.748588e+13</td>\n",
       "      <td>-4.748588e+13</td>\n",
       "      <td>-4.748588e+13</td>\n",
       "      <td>-4.748588e+13</td>\n",
       "      <td>-4.748588e+13</td>\n",
       "      <td>-4.748588e+13</td>\n",
       "      <td>-4.748588e+13</td>\n",
       "    </tr>\n",
       "  </tbody>\n",
       "</table>\n",
       "<p>1 rows × 40 columns</p>\n",
       "</div>"
      ],
      "text/plain": [
       "                   Wind        Temp         dow       Weather        Hour_0  \\\n",
       "Coefficients -41.950296  414.615206 -148.755323  7.266882e+13 -2.518294e+13   \n",
       "\n",
       "                    Hour_1        Hour_2        Hour_3        Hour_4  \\\n",
       "Coefficients -2.518294e+13 -2.518294e+13 -2.518294e+13 -2.518294e+13   \n",
       "\n",
       "                    Hour_5  ...       Month_3       Month_4       Month_5  \\\n",
       "Coefficients -2.518294e+13  ... -4.748588e+13 -4.748588e+13 -4.748588e+13   \n",
       "\n",
       "                   Month_6       Month_7       Month_8       Month_9  \\\n",
       "Coefficients -4.748588e+13 -4.748588e+13 -4.748588e+13 -4.748588e+13   \n",
       "\n",
       "                  Month_10      Month_11      Month_12  \n",
       "Coefficients -4.748588e+13 -4.748588e+13 -4.748588e+13  \n",
       "\n",
       "[1 rows x 40 columns]"
      ]
     },
     "execution_count": 51,
     "metadata": {},
     "output_type": "execute_result"
    }
   ],
   "source": [
    "cdf = pd.DataFrame(linear_model.coef_, x_train.columns, columns=['Coefficients'])\n",
    "cdf.transpose()"
   ]
  },
  {
   "cell_type": "code",
   "execution_count": 52,
   "metadata": {
    "scrolled": true
   },
   "outputs": [
    {
     "data": {
      "text/plain": [
       "<AxesSubplot:>"
      ]
     },
     "execution_count": 52,
     "metadata": {},
     "output_type": "execute_result"
    },
    {
     "data": {
      "image/png": "[encoded data removed]",
      "text/plain": [
       "<Figure size 432x288 with 1 Axes>"
      ]
     },
     "metadata": {
      "needs_background": "light"
     },
     "output_type": "display_data"
    },
    {
     "data": {
      "image/png": "[encoded data removed]",
      "text/plain": [
       "<Figure size 432x288 with 1 Axes>"
      ]
     },
     "metadata": {
      "needs_background": "light"
     },
     "output_type": "display_data"
    }
   ],
   "source": [
    "cdf.iloc[4:26,:].plot()\n",
    "cdf.iloc[28:41,:].plot()"
   ]
  },
  {
   "cell_type": "code",
   "execution_count": 53,
   "metadata": {},
   "outputs": [
    {
     "data": {
      "text/plain": [
       "array([[<AxesSubplot:title={'center':'0'}>]], dtype=object)"
      ]
     },
     "execution_count": 53,
     "metadata": {},
     "output_type": "execute_result"
    },
    {
     "data": {
      "image/png": "[encoded data removed]",
      "text/plain": [
       "<Figure size 432x288 with 1 Axes>"
      ]
     },
     "metadata": {
      "needs_background": "light"
     },
     "output_type": "display_data"
    }
   ],
   "source": [
    "pd.DataFrame(y_predicted).hist()"
   ]
  },
  {
   "cell_type": "markdown",
   "metadata": {},
   "source": [
    " By applying all the features listed above, we can see that the model has improved significantly, however, from the distribution we can see that some of the y_predicted have negative value, meaning negative trips which does not make sense that needs to be excluded from the model calculation "
   ]
  },
  {
   "cell_type": "markdown",
   "metadata": {},
   "source": [
    "## Setting Negative Values to 0"
   ]
  },
  {
   "cell_type": "code",
   "execution_count": 54,
   "metadata": {},
   "outputs": [
    {
     "name": "stdout",
     "output_type": "stream",
     "text": [
      "226.26379632060926\n"
     ]
    }
   ],
   "source": [
    "linear_rmse = rmse(np.where(y_predicted<0, 0, y_predicted) - y_val)\n",
    "print(linear_rmse)"
   ]
  },
  {
   "cell_type": "markdown",
   "metadata": {},
   "source": [
    "## Time Series Cross Validation"
   ]
  },
  {
   "cell_type": "markdown",
   "metadata": {},
   "source": [
    "In this section, since the dataset is time sensitive, we will use time series cross validation to our model, using both the simple model as well as the linear model"
   ]
  },
  {
   "cell_type": "code",
   "execution_count": 55,
   "metadata": {},
   "outputs": [],
   "source": [
    "from sklearn.model_selection import TimeSeriesSplit\n",
    "from sklearn.base import clone"
   ]
  },
  {
   "cell_type": "code",
   "execution_count": 81,
   "metadata": {},
   "outputs": [],
   "source": [
    "# this code is from assignment 6, except for TimeSeriesSplit\n",
    "\n",
    "def cross_validate_rmse(model, X, y):\n",
    "    \n",
    "    # Setup\n",
    "    model = clone(model)\n",
    "    time_split = TimeSeriesSplit(n_splits=12) \n",
    "    rmse_values = []\n",
    "    \n",
    "    for train_index, val_index in time_split.split(X):\n",
    "        \n",
    "        X_train, X_val = X.iloc[train_index], X.iloc[val_index]\n",
    "        y_train, y_val = y.iloc[train_index], y.iloc[val_index]\n",
    "        \n",
    "        \n",
    "        model.fit(X_train, y_train)\n",
    "        y_predicted = model.predict(X_val)   \n",
    "        \n",
    "        \n",
    "        rmse_values.append(rmse(y_predicted - y_val))\n",
    "        \n",
    "    return rmse_values"
   ]
  },
  {
   "cell_type": "markdown",
   "metadata": {},
   "source": [
    "First applying on simple model "
   ]
  },
  {
   "cell_type": "code",
   "execution_count": 82,
   "metadata": {},
   "outputs": [
    {
     "name": "stdout",
     "output_type": "stream",
     "text": [
      "Cross-validation Simple RMSE scores: [315.230212150544, 279.9860799202882, 293.563541776525, 323.1602475496827, 336.4595656806655, 299.40856947706874, 321.291658790099, 296.3434263164471, 374.71785770236045, 299.3348987962573, 318.8139209177943, 334.77133586896935]\n",
      "Cross-validation Simple RMSE scores mean: 316.0901095788918\n",
      "Cross-validation Simple RMSE scores std: 24.231877983836373\n"
     ]
    }
   ],
   "source": [
    "simple_rmse_cv = cross_validate_rmse(model=LinearRegression(fit_intercept=True), X=x_train_simple, y=y_train_simple)\n",
    "print('Cross-validation Simple RMSE scores: {}'.format(simple_rmse_cv))\n",
    "print('Cross-validation Simple RMSE scores mean: {}'.format(np.mean(simple_rmse_cv)))\n",
    "print('Cross-validation Simple RMSE scores std: {}'.format(np.std(simple_rmse_cv)))"
   ]
  },
  {
   "cell_type": "markdown",
   "metadata": {},
   "source": [
    "Next linear model is used "
   ]
  },
  {
   "cell_type": "code",
   "execution_count": 83,
   "metadata": {
    "scrolled": false
   },
   "outputs": [
    {
     "name": "stdout",
     "output_type": "stream",
     "text": [
      "Cross-validation Linear RMSE scores: [232.84655481744156, 201.39240779874635, 221.77277480803508, 223.8857921088316, 234.31471100916642, 221.1682377800556, 224.8477198097149, 222.46315815150487, 247.71445834898952, 211.85684560032172, 205.24914215284215, 219.66994685824736]\n",
      "Cross-validation Linear RMSE scores mean: 222.26514577032478\n",
      "Cross-validation Linear RMSE scores std: 12.09645305584364\n"
     ]
    }
   ],
   "source": [
    "linear_rmse_cv = cross_validate_rmse(model=LinearRegression(fit_intercept=True), X=x_train, y=y_train)\n",
    "print('Cross-validation Linear RMSE scores: {}'.format(linear_rmse_cv))\n",
    "print('Cross-validation Linear RMSE scores mean: {}'.format(np.mean(linear_rmse_cv)))\n",
    "print('Cross-validation Linear RMSE scores std: {}'.format(np.std(linear_rmse_cv)))"
   ]
  },
  {
   "cell_type": "markdown",
   "metadata": {},
   "source": [
    "The RMSE score from time series cross validation also confirms that our linear model performs well with an mean score of 222, we will use this to apply to our test dataset  "
   ]
  },
  {
   "cell_type": "markdown",
   "metadata": {},
   "source": [
    "# Test Dataset "
   ]
  },
  {
   "cell_type": "markdown",
   "metadata": {},
   "source": [
    "Applying the model to test dataset as well as RMSE calculation with cross validation"
   ]
  },
  {
   "cell_type": "code",
   "execution_count": 69,
   "metadata": {},
   "outputs": [],
   "source": [
    "x_train, y_train = process_data(train, ['Hour', 'Month'], ['Wind','Temp'], ['dow', 'Weather'])\n",
    "x_test, y_test = process_data(test, ['Hour', 'Month'], ['Wind','Temp'], ['dow', 'Weather'])"
   ]
  },
  {
   "cell_type": "code",
   "execution_count": 80,
   "metadata": {},
   "outputs": [
    {
     "name": "stdout",
     "output_type": "stream",
     "text": [
      "226.03536567797323\n"
     ]
    }
   ],
   "source": [
    "linear_model = LinearRegression(fit_intercept=True)\n",
    "\n",
    "linear_model.fit(x_train, y_train)\n",
    "\n",
    "y_predicted = linear_model.predict(x_test)\n",
    "\n",
    "linear_rmse_test = rmse(y_predicted - y_test)\n",
    "print(linear_rmse_test)"
   ]
  },
  {
   "cell_type": "code",
   "execution_count": 89,
   "metadata": {},
   "outputs": [],
   "source": [
    "def cross_validate_rmse_test(model, X, y):\n",
    "    \n",
    "    # Setup\n",
    "    model = clone(model)\n",
    "    time_split = TimeSeriesSplit(n_splits=12) \n",
    "    rmse_values = []\n",
    "    \n",
    "    for train_index, test_index in time_split.split(X):\n",
    "        \n",
    "        X_train, X_test = X.iloc[train_index], X.iloc[test_index]\n",
    "        y_train, y_test = y.iloc[train_index], y.iloc[test_index]\n",
    "        \n",
    "        \n",
    "        model.fit(X_train, y_train)\n",
    "        y_predicted = model.predict(X_test)   \n",
    "        \n",
    "        \n",
    "        rmse_values.append(rmse(y_predicted - y_test))\n",
    "        \n",
    "    return rmse_values"
   ]
  },
  {
   "cell_type": "code",
   "execution_count": 102,
   "metadata": {},
   "outputs": [
    {
     "name": "stdout",
     "output_type": "stream",
     "text": [
      "Cross-validation Linear RMSE scores: [214.8995346667833, 229.07343800624287, 255.020728630537, 223.20020861325375, 244.5512551721009, 237.87074221097473, 244.2523686873374, 233.45425809995413, 255.22239811583935, 229.29475571848562, 262.88836033571357, 229.12948440783435]\n",
      "Cross-validation Linear RMSE scores mean: 238.23812772208808\n",
      "Cross-validation Linear RMSE scores std: 13.828032866739447\n"
     ]
    }
   ],
   "source": [
    "linear_rmse_cv_test = cross_validate_rmse_test(model=LinearRegression(fit_intercept=True), X=x_test, y=y_test)\n",
    "print('Cross-validation Linear RMSE scores: {}'.format(linear_rmse_cv_test))\n",
    "print('Cross-validation Linear RMSE scores mean: {}'.format(np.mean(linear_rmse_cv_test)))\n",
    "print('Cross-validation Linear RMSE scores std: {}'.format(np.std(linear_rmse_cv_test)))"
   ]
  }
 ],
 "metadata": {
  "kernelspec": {
   "display_name": "Python 3",
   "language": "python",
   "name": "python3"
  },
  "language_info": {
   "codemirror_mode": {
    "name": "ipython",
    "version": 3
   },
   "file_extension": ".py",
   "mimetype": "text/x-python",
   "name": "python",
   "nbconvert_exporter": "python",
   "pygments_lexer": "ipython3",
   "version": "3.8.5"
  }
 },
 "nbformat": 4,
 "nbformat_minor": 4
}
