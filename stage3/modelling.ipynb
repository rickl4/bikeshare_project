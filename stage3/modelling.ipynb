{
 "cells": [
  {
   "cell_type": "code",
   "execution_count": 151,
   "metadata": {},
   "outputs": [],
   "source": [
    "import numpy as np\n",
    "import pandas as pd\n",
    "import seaborn as sns\n",
    "import geopandas as gpd\n",
    "import matplotlib.pyplot as plt\n",
    "\n",
    "%matplotlib inline\n",
    "sns.set_context(\"notebook\")\n",
    "import warnings\n",
    "warnings.filterwarnings('ignore')"
   ]
  },
  {
   "cell_type": "markdown",
   "metadata": {},
   "source": [
    "# Reading Data"
   ]
  },
  {
   "cell_type": "code",
   "execution_count": 152,
   "metadata": {},
   "outputs": [],
   "source": [
    "trips = pd.read_csv('trips_raw_data.csv')"
   ]
  },
  {
   "cell_type": "code",
   "execution_count": 153,
   "metadata": {
    "scrolled": true
   },
   "outputs": [
    {
     "data": {
      "text/html": [
       "<div>\n",
       "<style scoped>\n",
       "    .dataframe tbody tr th:only-of-type {\n",
       "        vertical-align: middle;\n",
       "    }\n",
       "\n",
       "    .dataframe tbody tr th {\n",
       "        vertical-align: top;\n",
       "    }\n",
       "\n",
       "    .dataframe thead th {\n",
       "        text-align: right;\n",
       "    }\n",
       "</style>\n",
       "<table border=\"1\" class=\"dataframe\">\n",
       "  <thead>\n",
       "    <tr style=\"text-align: right;\">\n",
       "      <th></th>\n",
       "      <th>Unnamed: 0</th>\n",
       "      <th>Trip Id</th>\n",
       "      <th>Subscription Id</th>\n",
       "      <th>Trip Duration</th>\n",
       "      <th>Start Station Id</th>\n",
       "      <th>Start Time</th>\n",
       "      <th>Start Station Name</th>\n",
       "      <th>End Station Id</th>\n",
       "      <th>End Time</th>\n",
       "      <th>End Station Name</th>\n",
       "      <th>...</th>\n",
       "      <th>Temp (°C)</th>\n",
       "      <th>Dew Point Temp (°C)</th>\n",
       "      <th>Rel Hum (%)</th>\n",
       "      <th>Wind Dir (10s deg)</th>\n",
       "      <th>Wind Spd (km/h)</th>\n",
       "      <th>Visibility (km)</th>\n",
       "      <th>Stn Press (kPa)</th>\n",
       "      <th>Hmdx</th>\n",
       "      <th>Wind Chill</th>\n",
       "      <th>Weather</th>\n",
       "    </tr>\n",
       "  </thead>\n",
       "  <tbody>\n",
       "    <tr>\n",
       "      <th>0</th>\n",
       "      <td>58</td>\n",
       "      <td>712441</td>\n",
       "      <td>NaN</td>\n",
       "      <td>274</td>\n",
       "      <td>7006.0</td>\n",
       "      <td>2017-01-01 00:03:00-05:00</td>\n",
       "      <td>Bay St / College St (East Side)</td>\n",
       "      <td>7021.0</td>\n",
       "      <td>2017-01-01 00:08:00-05:00</td>\n",
       "      <td>Bay St / Albert St</td>\n",
       "      <td>...</td>\n",
       "      <td>1.5</td>\n",
       "      <td>-3.6</td>\n",
       "      <td>69.0</td>\n",
       "      <td>26.0</td>\n",
       "      <td>39.0</td>\n",
       "      <td>16.1</td>\n",
       "      <td>99.81</td>\n",
       "      <td>NaN</td>\n",
       "      <td>NaN</td>\n",
       "      <td>NaN</td>\n",
       "    </tr>\n",
       "    <tr>\n",
       "      <th>1</th>\n",
       "      <td>59</td>\n",
       "      <td>712442</td>\n",
       "      <td>NaN</td>\n",
       "      <td>538</td>\n",
       "      <td>7046.0</td>\n",
       "      <td>2017-01-01 00:03:00-05:00</td>\n",
       "      <td>Niagara St / Richmond St W</td>\n",
       "      <td>7147.0</td>\n",
       "      <td>2017-01-01 00:12:00-05:00</td>\n",
       "      <td>King St W / Fraser Ave</td>\n",
       "      <td>...</td>\n",
       "      <td>1.5</td>\n",
       "      <td>-3.6</td>\n",
       "      <td>69.0</td>\n",
       "      <td>26.0</td>\n",
       "      <td>39.0</td>\n",
       "      <td>16.1</td>\n",
       "      <td>99.81</td>\n",
       "      <td>NaN</td>\n",
       "      <td>NaN</td>\n",
       "      <td>NaN</td>\n",
       "    </tr>\n",
       "    <tr>\n",
       "      <th>2</th>\n",
       "      <td>60</td>\n",
       "      <td>712443</td>\n",
       "      <td>NaN</td>\n",
       "      <td>992</td>\n",
       "      <td>7048.0</td>\n",
       "      <td>2017-01-01 00:05:00-05:00</td>\n",
       "      <td>Front St W / Yonge St (Hockey Hall of Fame)</td>\n",
       "      <td>7089.0</td>\n",
       "      <td>2017-01-01 00:22:00-05:00</td>\n",
       "      <td>Church St  / Wood St</td>\n",
       "      <td>...</td>\n",
       "      <td>1.5</td>\n",
       "      <td>-3.6</td>\n",
       "      <td>69.0</td>\n",
       "      <td>26.0</td>\n",
       "      <td>39.0</td>\n",
       "      <td>16.1</td>\n",
       "      <td>99.81</td>\n",
       "      <td>NaN</td>\n",
       "      <td>NaN</td>\n",
       "      <td>NaN</td>\n",
       "    </tr>\n",
       "    <tr>\n",
       "      <th>3</th>\n",
       "      <td>61</td>\n",
       "      <td>712444</td>\n",
       "      <td>NaN</td>\n",
       "      <td>1005</td>\n",
       "      <td>7177.0</td>\n",
       "      <td>2017-01-01 00:09:00-05:00</td>\n",
       "      <td>East Liberty St / Pirandello St</td>\n",
       "      <td>7202.0</td>\n",
       "      <td>2017-01-01 00:26:00-05:00</td>\n",
       "      <td>Queen St W / York St (City Hall)</td>\n",
       "      <td>...</td>\n",
       "      <td>1.5</td>\n",
       "      <td>-3.6</td>\n",
       "      <td>69.0</td>\n",
       "      <td>26.0</td>\n",
       "      <td>39.0</td>\n",
       "      <td>16.1</td>\n",
       "      <td>99.81</td>\n",
       "      <td>NaN</td>\n",
       "      <td>NaN</td>\n",
       "      <td>NaN</td>\n",
       "    </tr>\n",
       "    <tr>\n",
       "      <th>4</th>\n",
       "      <td>62</td>\n",
       "      <td>712445</td>\n",
       "      <td>NaN</td>\n",
       "      <td>645</td>\n",
       "      <td>7203.0</td>\n",
       "      <td>2017-01-01 00:14:00-05:00</td>\n",
       "      <td>Bathurst St/Queens Quay(Billy Bishop Airport)</td>\n",
       "      <td>7010.0</td>\n",
       "      <td>2017-01-01 00:25:00-05:00</td>\n",
       "      <td>King St W / Spadina Ave</td>\n",
       "      <td>...</td>\n",
       "      <td>1.5</td>\n",
       "      <td>-3.6</td>\n",
       "      <td>69.0</td>\n",
       "      <td>26.0</td>\n",
       "      <td>39.0</td>\n",
       "      <td>16.1</td>\n",
       "      <td>99.81</td>\n",
       "      <td>NaN</td>\n",
       "      <td>NaN</td>\n",
       "      <td>NaN</td>\n",
       "    </tr>\n",
       "  </tbody>\n",
       "</table>\n",
       "<p>5 rows × 24 columns</p>\n",
       "</div>"
      ],
      "text/plain": [
       "   Unnamed: 0  Trip Id  Subscription Id  Trip Duration  Start Station Id  \\\n",
       "0          58   712441              NaN            274            7006.0   \n",
       "1          59   712442              NaN            538            7046.0   \n",
       "2          60   712443              NaN            992            7048.0   \n",
       "3          61   712444              NaN           1005            7177.0   \n",
       "4          62   712445              NaN            645            7203.0   \n",
       "\n",
       "                  Start Time                             Start Station Name  \\\n",
       "0  2017-01-01 00:03:00-05:00                Bay St / College St (East Side)   \n",
       "1  2017-01-01 00:03:00-05:00                     Niagara St / Richmond St W   \n",
       "2  2017-01-01 00:05:00-05:00    Front St W / Yonge St (Hockey Hall of Fame)   \n",
       "3  2017-01-01 00:09:00-05:00                East Liberty St / Pirandello St   \n",
       "4  2017-01-01 00:14:00-05:00  Bathurst St/Queens Quay(Billy Bishop Airport)   \n",
       "\n",
       "   End Station Id                   End Time  \\\n",
       "0          7021.0  2017-01-01 00:08:00-05:00   \n",
       "1          7147.0  2017-01-01 00:12:00-05:00   \n",
       "2          7089.0  2017-01-01 00:22:00-05:00   \n",
       "3          7202.0  2017-01-01 00:26:00-05:00   \n",
       "4          7010.0  2017-01-01 00:25:00-05:00   \n",
       "\n",
       "                   End Station Name  ...  Temp (°C) Dew Point Temp (°C)  \\\n",
       "0                Bay St / Albert St  ...        1.5                -3.6   \n",
       "1            King St W / Fraser Ave  ...        1.5                -3.6   \n",
       "2              Church St  / Wood St  ...        1.5                -3.6   \n",
       "3  Queen St W / York St (City Hall)  ...        1.5                -3.6   \n",
       "4           King St W / Spadina Ave  ...        1.5                -3.6   \n",
       "\n",
       "  Rel Hum (%) Wind Dir (10s deg)  Wind Spd (km/h)  Visibility (km)  \\\n",
       "0        69.0               26.0             39.0             16.1   \n",
       "1        69.0               26.0             39.0             16.1   \n",
       "2        69.0               26.0             39.0             16.1   \n",
       "3        69.0               26.0             39.0             16.1   \n",
       "4        69.0               26.0             39.0             16.1   \n",
       "\n",
       "   Stn Press (kPa)  Hmdx  Wind Chill  Weather  \n",
       "0            99.81   NaN         NaN      NaN  \n",
       "1            99.81   NaN         NaN      NaN  \n",
       "2            99.81   NaN         NaN      NaN  \n",
       "3            99.81   NaN         NaN      NaN  \n",
       "4            99.81   NaN         NaN      NaN  \n",
       "\n",
       "[5 rows x 24 columns]"
      ]
     },
     "execution_count": 153,
     "metadata": {},
     "output_type": "execute_result"
    }
   ],
   "source": [
    "trips.head()"
   ]
  },
  {
   "cell_type": "code",
   "execution_count": 154,
   "metadata": {},
   "outputs": [
    {
     "data": {
      "text/plain": [
       "Unnamed: 0                   0\n",
       "Trip Id                      0\n",
       "Subscription Id        3232109\n",
       "Trip Duration                0\n",
       "Start Station Id             0\n",
       "Start Time                   0\n",
       "Start Station Name           0\n",
       "End Station Id               0\n",
       "End Time                     0\n",
       "End Station Name             0\n",
       "Bike Id                3232109\n",
       "User Type              1392031\n",
       "merge_time                   0\n",
       "Date/Time                    0\n",
       "Temp (°C)                39117\n",
       "Dew Point Temp (°C)      45861\n",
       "Rel Hum (%)              44447\n",
       "Wind Dir (10s deg)      448938\n",
       "Wind Spd (km/h)          19028\n",
       "Visibility (km)          21981\n",
       "Stn Press (kPa)          39827\n",
       "Hmdx                   5495533\n",
       "Wind Chill             7410641\n",
       "Weather                7351579\n",
       "dtype: int64"
      ]
     },
     "execution_count": 154,
     "metadata": {},
     "output_type": "execute_result"
    }
   ],
   "source": [
    "trips.isna().sum()"
   ]
  },
  {
   "cell_type": "markdown",
   "metadata": {},
   "source": [
    "In earlier steps of this project, we left some columns with `nan` values because some parameters `nan` values contained meaning, and because we weren't sure about how we were going to use each column. For the modelling part of the project, we will need to fill in the null values."
   ]
  },
  {
   "cell_type": "code",
   "execution_count": 155,
   "metadata": {},
   "outputs": [],
   "source": [
    "trips['Start Time'] = pd.DatetimeIndex(trips['Start Time'])"
   ]
  },
  {
   "cell_type": "markdown",
   "metadata": {},
   "source": [
    "## Filling Missing Values\n",
    "\n",
    "### Creating a table of averages"
   ]
  },
  {
   "cell_type": "markdown",
   "metadata": {},
   "source": [
    "We'll fill in any row that has missing values with the monthly average for that hour. For example, if on June 1st at 7PM, we don't have a temperature reading, we'll fill that value with the average of all temperatures at 7PM in June.\n",
    "\n",
    "We'll define a list of mandatory fields, where null values indicates there was an equipment error, and there should have been a reading for that hour."
   ]
  },
  {
   "cell_type": "code",
   "execution_count": 156,
   "metadata": {},
   "outputs": [],
   "source": [
    "mandatory_fields = ['Wind Spd (km/h)','Temp (°C)', 'Dew Point Temp (°C)', \n",
    "                    'Rel Hum (%)', 'Visibility (km)', 'Stn Press (kPa)']"
   ]
  },
  {
   "cell_type": "markdown",
   "metadata": {},
   "source": [
    "To create the table of averages, we'll group the table by month and hour, and then compute the average."
   ]
  },
  {
   "cell_type": "code",
   "execution_count": 157,
   "metadata": {},
   "outputs": [],
   "source": [
    "weather_avg = trips\n",
    "weather_avg['month'] = trips['Start Time'].dt.month\n",
    "weather_avg['hour'] = trips['Start Time'].dt.hour\n",
    "weather_avg = weather_avg.groupby(['month', 'hour']).agg({'Temp (°C)':'mean', \n",
    "                                                          'Wind Spd (km/h)':'mean', 'Dew Point Temp (°C)':'mean',\n",
    "                                                         'Rel Hum (%)':'mean', 'Visibility (km)':'mean',\n",
    "                                                          'Stn Press (kPa)':'mean'}).reset_index()"
   ]
  },
  {
   "cell_type": "code",
   "execution_count": 158,
   "metadata": {},
   "outputs": [
    {
     "data": {
      "text/html": [
       "<div>\n",
       "<style scoped>\n",
       "    .dataframe tbody tr th:only-of-type {\n",
       "        vertical-align: middle;\n",
       "    }\n",
       "\n",
       "    .dataframe tbody tr th {\n",
       "        vertical-align: top;\n",
       "    }\n",
       "\n",
       "    .dataframe thead th {\n",
       "        text-align: right;\n",
       "    }\n",
       "</style>\n",
       "<table border=\"1\" class=\"dataframe\">\n",
       "  <thead>\n",
       "    <tr style=\"text-align: right;\">\n",
       "      <th></th>\n",
       "      <th>month</th>\n",
       "      <th>hour</th>\n",
       "      <th>Temp (°C)</th>\n",
       "      <th>Wind Spd (km/h)</th>\n",
       "      <th>Dew Point Temp (°C)</th>\n",
       "      <th>Rel Hum (%)</th>\n",
       "      <th>Visibility (km)</th>\n",
       "      <th>Stn Press (kPa)</th>\n",
       "    </tr>\n",
       "  </thead>\n",
       "  <tbody>\n",
       "    <tr>\n",
       "      <th>0</th>\n",
       "      <td>1</td>\n",
       "      <td>0</td>\n",
       "      <td>-1.117325</td>\n",
       "      <td>18.114730</td>\n",
       "      <td>-4.974459</td>\n",
       "      <td>75.766792</td>\n",
       "      <td>14.597982</td>\n",
       "      <td>100.686662</td>\n",
       "    </tr>\n",
       "    <tr>\n",
       "      <th>1</th>\n",
       "      <td>1</td>\n",
       "      <td>1</td>\n",
       "      <td>-1.094166</td>\n",
       "      <td>18.698998</td>\n",
       "      <td>-4.940656</td>\n",
       "      <td>75.816029</td>\n",
       "      <td>14.651776</td>\n",
       "      <td>100.636664</td>\n",
       "    </tr>\n",
       "    <tr>\n",
       "      <th>2</th>\n",
       "      <td>1</td>\n",
       "      <td>2</td>\n",
       "      <td>-1.080907</td>\n",
       "      <td>20.053981</td>\n",
       "      <td>-4.896750</td>\n",
       "      <td>75.937922</td>\n",
       "      <td>14.550742</td>\n",
       "      <td>100.660129</td>\n",
       "    </tr>\n",
       "    <tr>\n",
       "      <th>3</th>\n",
       "      <td>1</td>\n",
       "      <td>3</td>\n",
       "      <td>-1.227724</td>\n",
       "      <td>19.676755</td>\n",
       "      <td>-4.610533</td>\n",
       "      <td>78.417676</td>\n",
       "      <td>13.325908</td>\n",
       "      <td>100.606743</td>\n",
       "    </tr>\n",
       "    <tr>\n",
       "      <th>4</th>\n",
       "      <td>1</td>\n",
       "      <td>4</td>\n",
       "      <td>-1.720796</td>\n",
       "      <td>19.323214</td>\n",
       "      <td>-5.275769</td>\n",
       "      <td>77.062500</td>\n",
       "      <td>14.778571</td>\n",
       "      <td>100.844340</td>\n",
       "    </tr>\n",
       "    <tr>\n",
       "      <th>...</th>\n",
       "      <td>...</td>\n",
       "      <td>...</td>\n",
       "      <td>...</td>\n",
       "      <td>...</td>\n",
       "      <td>...</td>\n",
       "      <td>...</td>\n",
       "      <td>...</td>\n",
       "      <td>...</td>\n",
       "    </tr>\n",
       "    <tr>\n",
       "      <th>283</th>\n",
       "      <td>12</td>\n",
       "      <td>19</td>\n",
       "      <td>1.112910</td>\n",
       "      <td>18.373229</td>\n",
       "      <td>-2.779573</td>\n",
       "      <td>75.789605</td>\n",
       "      <td>15.469816</td>\n",
       "      <td>100.599209</td>\n",
       "    </tr>\n",
       "    <tr>\n",
       "      <th>284</th>\n",
       "      <td>12</td>\n",
       "      <td>20</td>\n",
       "      <td>0.994698</td>\n",
       "      <td>18.703339</td>\n",
       "      <td>-3.019081</td>\n",
       "      <td>75.164298</td>\n",
       "      <td>15.373871</td>\n",
       "      <td>100.605219</td>\n",
       "    </tr>\n",
       "    <tr>\n",
       "      <th>285</th>\n",
       "      <td>12</td>\n",
       "      <td>21</td>\n",
       "      <td>0.851751</td>\n",
       "      <td>18.422254</td>\n",
       "      <td>-3.250044</td>\n",
       "      <td>74.809039</td>\n",
       "      <td>15.090165</td>\n",
       "      <td>100.603064</td>\n",
       "    </tr>\n",
       "    <tr>\n",
       "      <th>286</th>\n",
       "      <td>12</td>\n",
       "      <td>22</td>\n",
       "      <td>0.822271</td>\n",
       "      <td>17.962118</td>\n",
       "      <td>-3.079388</td>\n",
       "      <td>75.911412</td>\n",
       "      <td>15.040600</td>\n",
       "      <td>100.588202</td>\n",
       "    </tr>\n",
       "    <tr>\n",
       "      <th>287</th>\n",
       "      <td>12</td>\n",
       "      <td>23</td>\n",
       "      <td>0.723102</td>\n",
       "      <td>17.581511</td>\n",
       "      <td>-3.060905</td>\n",
       "      <td>76.473059</td>\n",
       "      <td>15.016474</td>\n",
       "      <td>100.615202</td>\n",
       "    </tr>\n",
       "  </tbody>\n",
       "</table>\n",
       "<p>288 rows × 8 columns</p>\n",
       "</div>"
      ],
      "text/plain": [
       "     month  hour  Temp (°C)  Wind Spd (km/h)  Dew Point Temp (°C)  \\\n",
       "0        1     0  -1.117325        18.114730            -4.974459   \n",
       "1        1     1  -1.094166        18.698998            -4.940656   \n",
       "2        1     2  -1.080907        20.053981            -4.896750   \n",
       "3        1     3  -1.227724        19.676755            -4.610533   \n",
       "4        1     4  -1.720796        19.323214            -5.275769   \n",
       "..     ...   ...        ...              ...                  ...   \n",
       "283     12    19   1.112910        18.373229            -2.779573   \n",
       "284     12    20   0.994698        18.703339            -3.019081   \n",
       "285     12    21   0.851751        18.422254            -3.250044   \n",
       "286     12    22   0.822271        17.962118            -3.079388   \n",
       "287     12    23   0.723102        17.581511            -3.060905   \n",
       "\n",
       "     Rel Hum (%)  Visibility (km)  Stn Press (kPa)  \n",
       "0      75.766792        14.597982       100.686662  \n",
       "1      75.816029        14.651776       100.636664  \n",
       "2      75.937922        14.550742       100.660129  \n",
       "3      78.417676        13.325908       100.606743  \n",
       "4      77.062500        14.778571       100.844340  \n",
       "..           ...              ...              ...  \n",
       "283    75.789605        15.469816       100.599209  \n",
       "284    75.164298        15.373871       100.605219  \n",
       "285    74.809039        15.090165       100.603064  \n",
       "286    75.911412        15.040600       100.588202  \n",
       "287    76.473059        15.016474       100.615202  \n",
       "\n",
       "[288 rows x 8 columns]"
      ]
     },
     "execution_count": 158,
     "metadata": {},
     "output_type": "execute_result"
    }
   ],
   "source": [
    "weather_avg"
   ]
  },
  {
   "cell_type": "markdown",
   "metadata": {},
   "source": [
    "For humidex and wind chill, a missing value indicates that the temperature conditions mean that the experienced temperature (either humidex or wind chill) is no different than the actual temperature from the thermometer. A simple data filtering exercise confirms this; the null values of humidex and wind chill doesn't overlap."
   ]
  },
  {
   "cell_type": "code",
   "execution_count": 159,
   "metadata": {},
   "outputs": [
    {
     "data": {
      "text/html": [
       "<div>\n",
       "<style scoped>\n",
       "    .dataframe tbody tr th:only-of-type {\n",
       "        vertical-align: middle;\n",
       "    }\n",
       "\n",
       "    .dataframe tbody tr th {\n",
       "        vertical-align: top;\n",
       "    }\n",
       "\n",
       "    .dataframe thead th {\n",
       "        text-align: right;\n",
       "    }\n",
       "</style>\n",
       "<table border=\"1\" class=\"dataframe\">\n",
       "  <thead>\n",
       "    <tr style=\"text-align: right;\">\n",
       "      <th></th>\n",
       "      <th>Start Time</th>\n",
       "      <th>Temp (°C)</th>\n",
       "    </tr>\n",
       "  </thead>\n",
       "  <tbody>\n",
       "  </tbody>\n",
       "</table>\n",
       "</div>"
      ],
      "text/plain": [
       "Empty DataFrame\n",
       "Columns: [Start Time, Temp (°C)]\n",
       "Index: []"
      ]
     },
     "execution_count": 159,
     "metadata": {},
     "output_type": "execute_result"
    }
   ],
   "source": [
    "trips[(~trips['Hmdx'].isna()) & (~trips['Wind Chill'].isna())][['Start Time', 'Temp (°C)']]"
   ]
  },
  {
   "cell_type": "markdown",
   "metadata": {},
   "source": [
    "# Feature Engineering"
   ]
  },
  {
   "cell_type": "code",
   "execution_count": 160,
   "metadata": {},
   "outputs": [],
   "source": [
    "from sklearn.model_selection import train_test_split"
   ]
  },
  {
   "cell_type": "markdown",
   "metadata": {},
   "source": [
    "We'll define several function for our data processing. `aggregate_trips` will count each row, and then return a dataframe where it has the count of trips for each hour. Since the weather dataset is hourly, we can simply `agg` by `fist` since those values will be the same for all rows within each hour."
   ]
  },
  {
   "cell_type": "code",
   "execution_count": 161,
   "metadata": {},
   "outputs": [],
   "source": [
    "def aggregate_trips(df):\n",
    "    df['Start Time'] = df['Start Time'].dt.floor('H')\n",
    "    \n",
    "    df_hourly = df.groupby('Start Time').agg({'Trip Id':'count', 'Weather':'first',\n",
    "                                              'Wind Spd (km/h)': 'first', 'Temp (°C)': 'first', \n",
    "                                              'Dew Point Temp (°C)':'first',\n",
    "                                                         'Rel Hum (%)':'first', 'Visibility (km)':'first',\n",
    "                                                          'Stn Press (kPa)':'first', 'Hmdx': 'first',\n",
    "                                              'Wind Chill':'first', 'Wind Dir (10s deg)':'first'})\n",
    "    df_hourly = df_hourly.reset_index()\n",
    "    \n",
    "    df_hourly = df_hourly.rename(columns = {'Trip Id': 'Trips'})\n",
    "    return df_hourly"
   ]
  },
  {
   "cell_type": "markdown",
   "metadata": {},
   "source": [
    "In `clean_weather`, for each mandatory field, if a value for that hour is null, we will fill it with a value from our table of averages. We will do it sequentially in a loop for each mandatory field.\n",
    "\n",
    "We'll also create a column named `Experienced Temp` which will replace both the humidex and wind chill, since those indicies are both measures of how a person percieves the temperature instead of the actual temperature. If the humidex or wind chill is null, we will fill it using `np.where` with the actual temperature."
   ]
  },
  {
   "cell_type": "code",
   "execution_count": 162,
   "metadata": {},
   "outputs": [],
   "source": [
    "def clean_weather(df, mandatory_fields, weather_avg):\n",
    "    \n",
    "    for field in mandatory_fields:\n",
    "        \n",
    "        for index in df[df[field].isna()].index:\n",
    "            mon = df.loc[index, 'Start Time'].month\n",
    "            hr = df.loc[index, 'Start Time'].hour\n",
    "            avg_temp = weather_avg[(weather_avg['month'] == mon) \n",
    "                                   & (weather_avg['hour'] == hr)].reset_index().loc[0,field]\n",
    "\n",
    "            df.loc[index, field] = avg_temp\n",
    "    \n",
    "    df['Experienced Temp'] = np.where(df['Hmdx'].isna(), df['Temp (°C)'], df['Hmdx'])\n",
    "    df['Experienced Temp'] = np.where(df['Wind Chill'].isna(), df['Temp (°C)'], df['Wind Chill'])\n",
    "    \n",
    "    return df"
   ]
  },
  {
   "cell_type": "markdown",
   "metadata": {},
   "source": [
    "For `weather_features` we will bin out the wind direction. If there is no wind direction value, that means there are calm winds, and the wind speed isn't high enough for there to be an actual wind direction. For the purposes of binning it into a catagorical variable, we'll assign all null values as a negative 45 degree angle, which will assign it to `Wind Dir_1`. For the other values, we'll bin it in 90 degree intervals.\n",
    "\n",
    "For `Weather`, we'll assign a 1 if there is precipitation."
   ]
  },
  {
   "cell_type": "code",
   "execution_count": 163,
   "metadata": {},
   "outputs": [],
   "source": [
    "def weather_features(df):\n",
    "    \n",
    "    df['Wind Dir (10s deg)'] = np.where(df['Wind Dir (10s deg)'].isna(), -4.5, df['Wind Dir (10s deg)'])\n",
    "    df['Wind Dir (10s deg)'] = np.digitize(df.loc[:, 'Wind Dir (10s deg)'], [-9,0,9,18,27,37])\n",
    "    df['Weather'] = np.where(df['Weather'].isna(), 0, 1)\n",
    "    \n",
    "    return df"
   ]
  },
  {
   "cell_type": "markdown",
   "metadata": {},
   "source": [
    "We'll also rename some features for easier coding."
   ]
  },
  {
   "cell_type": "code",
   "execution_count": 164,
   "metadata": {},
   "outputs": [],
   "source": [
    "def rename_features(df):\n",
    "    df = df.rename(columns = {'Wind Spd (km/h)':'Wind', \n",
    "                                                'Temp (°C)': 'Temp', 'Dew Point Temp (°C)':'Dew', 'Rel Hum (%)':'RH',\n",
    "                                               'Visibility (km)':'Visibility', 'Stn Press (kPa)':'Pressure',\n",
    "                                           'Wind Dir (10s deg)':'Wind Dir'})\n",
    "    return df"
   ]
  },
  {
   "cell_type": "code",
   "execution_count": 165,
   "metadata": {},
   "outputs": [
    {
     "name": "stdout",
     "output_type": "stream",
     "text": [
      "Requirement already satisfied: holidays in /Users/jimzhang/opt/anaconda3/lib/python3.8/site-packages (0.10.5.2)\n",
      "Requirement already satisfied: convertdate>=2.3.0 in /Users/jimzhang/opt/anaconda3/lib/python3.8/site-packages (from holidays) (2.3.2)\n",
      "Requirement already satisfied: six in /Users/jimzhang/opt/anaconda3/lib/python3.8/site-packages (from holidays) (1.15.0)\n",
      "Requirement already satisfied: python-dateutil in /Users/jimzhang/opt/anaconda3/lib/python3.8/site-packages (from holidays) (2.8.1)\n",
      "Requirement already satisfied: korean-lunar-calendar in /Users/jimzhang/opt/anaconda3/lib/python3.8/site-packages (from holidays) (0.2.1)\n",
      "Requirement already satisfied: hijri-converter in /Users/jimzhang/opt/anaconda3/lib/python3.8/site-packages (from holidays) (2.1.1)\n",
      "Requirement already satisfied: pymeeus<=1,>=0.3.13 in /Users/jimzhang/opt/anaconda3/lib/python3.8/site-packages (from convertdate>=2.3.0->holidays) (0.5.11)\n",
      "Requirement already satisfied: pytz>=2014.10 in /Users/jimzhang/opt/anaconda3/lib/python3.8/site-packages (from convertdate>=2.3.0->holidays) (2020.1)\n"
     ]
    }
   ],
   "source": [
    "!pip install holidays"
   ]
  },
  {
   "cell_type": "code",
   "execution_count": 166,
   "metadata": {},
   "outputs": [],
   "source": [
    "from datetime import date\n",
    "import holidays"
   ]
  },
  {
   "cell_type": "markdown",
   "metadata": {},
   "source": [
    "In earlier analysis, we determined that holidays have similar patterns to weekends. Instead of having multiple parameters for days of week, we'll assign a 1 if its a weekend or a holiday, and a 0 if its a weekday. We'll use the holidays module to find out the dates of holidays in Ontario.\n",
    "\n",
    "We'll also separate out the month, and hour from the start date."
   ]
  },
  {
   "cell_type": "code",
   "execution_count": 167,
   "metadata": {
    "scrolled": true
   },
   "outputs": [
    {
     "name": "stdout",
     "output_type": "stream",
     "text": [
      "2017-01-01\n",
      "2017-01-02\n",
      "2017-02-20\n",
      "2017-04-14\n",
      "2017-05-22\n",
      "2017-07-01\n",
      "2017-07-03\n",
      "2017-08-07\n",
      "2017-09-04\n",
      "2017-10-09\n",
      "2017-12-25\n",
      "2017-12-26\n",
      "2018-01-01\n",
      "2018-02-19\n",
      "2018-03-30\n",
      "2018-05-21\n",
      "2018-07-01\n",
      "2018-07-02\n",
      "2018-08-06\n",
      "2018-09-03\n",
      "2018-10-08\n",
      "2018-12-25\n",
      "2018-12-26\n",
      "2019-01-01\n",
      "2019-02-18\n",
      "2019-04-19\n",
      "2019-05-20\n",
      "2019-07-01\n",
      "2019-08-05\n",
      "2019-09-02\n",
      "2019-10-14\n",
      "2019-12-25\n",
      "2019-12-26\n",
      "2020-01-01\n",
      "2020-02-17\n",
      "2020-04-10\n",
      "2020-05-18\n",
      "2020-07-01\n",
      "2020-08-03\n",
      "2020-09-07\n",
      "2020-10-12\n",
      "2020-12-25\n",
      "2020-12-28\n"
     ]
    }
   ],
   "source": [
    "on_hol = holidays.CA(prov = 'ON', years = [2017,2018,2019,2020])\n",
    "for i in on_hol:\n",
    "    print(i)"
   ]
  },
  {
   "cell_type": "code",
   "execution_count": 168,
   "metadata": {},
   "outputs": [],
   "source": [
    "def temporal_features(df):\n",
    "    \n",
    "    on_hol = holidays.CA(prov = 'ON', years = [2017,2018,2019,2020])\n",
    "    \n",
    "    df['Month'] = df['Start Time'].dt.month\n",
    "    df['Hour'] = df['Start Time'].dt.hour\n",
    "    df['dow'] = np.where(df['Start Time'].dt.dayofweek > 4, 1, 0)\n",
    "    df['dow'] = np.where(df['Start Time'].dt.date.isin(on_hol), 1, 0)\n",
    "    \n",
    "    return df"
   ]
  },
  {
   "cell_type": "markdown",
   "metadata": {},
   "source": [
    "We'll combine all these function into our `process_data` function. Besides the dataframe itself, we'll also need which columns are binary columns (take on a value of only 1s and 0s), which columns need to be scaled, and which columns are catagorical fields.\n",
    "\n",
    "We'll use a min max scaler to scale all of our scaled columns.\n",
    "\n",
    "To make the function as applicable to many cases as possible, we've introduced a series of if/else statements so if we don't input any of `scaled_features`, `binary_features` or `cat_features`, we can still return a suitable dataframe for modelling. "
   ]
  },
  {
   "cell_type": "code",
   "execution_count": 169,
   "metadata": {},
   "outputs": [],
   "source": [
    "from sklearn.preprocessing import MinMaxScaler \n",
    "\n",
    "def process_data(df, cat_features, scaled_features, binary_features, mandatory_fields, weather_avg):\n",
    "    \n",
    "    df_process = df.copy()\n",
    "    \n",
    "    df_process = clean_weather(df_process, mandatory_fields, weather_avg)\n",
    "    df_process = weather_features(df_process)\n",
    "    df_process = rename_features(df_process)\n",
    "    df_process = temporal_features(df_process)\n",
    "    \n",
    "    df_process = df_process.drop(columns = ['Start Time'])\n",
    "    y = df_process['Trips']\n",
    "    \n",
    "    if binary_features != None:\n",
    "        binary = df_process[binary_features] \n",
    "    else:\n",
    "        binary = None\n",
    "    \n",
    "    if (scaled_features != None) & (cat_features != None):\n",
    "        categoricals = [pd.get_dummies(df_process[s], prefix=s, drop_first=False) for s in cat_features]\n",
    "        scaler = MinMaxScaler()\n",
    "        scaler.fit(df_process[scaled_features])\n",
    "\n",
    "        \n",
    "        scaled = df_process[scaled_features]\n",
    "\n",
    "        scaled.iloc[:, :] = scaler.transform(scaled) \n",
    "        x = pd.concat([scaled] + [binary] + categoricals, axis=1)\n",
    "    elif (scaled_features == None) & (cat_features != None):    \n",
    "        categoricals = [pd.get_dummies(df_process[s], prefix=s, drop_first=False) for s in cat_features]\n",
    "        x = pd.concat(categoricals + [binary], axis=1)\n",
    "        \n",
    "    elif (scaled_features != None) & (cat_features == None):\n",
    "            \n",
    "\n",
    "        scaler = MinMaxScaler()\n",
    "        scaler.fit(df_process[scaled_features])\n",
    "\n",
    "        scaled = df_process[scaled_features]\n",
    "\n",
    "        scaled.iloc[:, :] = scaler.transform(scaled) \n",
    "        x = pd.concat([scaled] + [binary], axis=1)\n",
    "        \n",
    "    else:\n",
    "        x = pd.concat([binary], axis=1)\n",
    "        \n",
    "\n",
    "    \n",
    "    return x, y"
   ]
  },
  {
   "cell_type": "markdown",
   "metadata": {},
   "source": [
    "Since we're modelling hourly trips, we need to put aggregate the data outside of our train/test/split. For our non-CV modelling, we've chosen a ratio of 70/15/15 for train/test/split, as thats the general practice taught in class."
   ]
  },
  {
   "cell_type": "code",
   "execution_count": 170,
   "metadata": {},
   "outputs": [],
   "source": [
    "trips_agg = aggregate_trips(trips)\n",
    "\n",
    "train, test = train_test_split(trips_agg, train_size=0.7, \n",
    "                               test_size=0.3, random_state=0)\n",
    "val, test = train_test_split(test, train_size=0.5,\n",
    "                             test_size=0.5, random_state=0)"
   ]
  },
  {
   "cell_type": "code",
   "execution_count": 171,
   "metadata": {},
   "outputs": [],
   "source": [
    "x_train, y_train = process_data(train, ['Hour', 'Month', 'Wind Dir'], \n",
    "                                ['Wind','Temp', 'Experienced Temp', 'Dew', 'RH', 'Pressure'], ['dow', 'Weather'],\n",
    "                               mandatory_fields, weather_avg)"
   ]
  },
  {
   "cell_type": "code",
   "execution_count": 175,
   "metadata": {},
   "outputs": [
    {
     "name": "stdout",
     "output_type": "stream",
     "text": [
      "<class 'pandas.core.frame.DataFrame'>\n",
      "Int64Index: 23394 entries, 29790 to 2732\n",
      "Data columns (total 49 columns):\n",
      " #   Column            Non-Null Count  Dtype  \n",
      "---  ------            --------------  -----  \n",
      " 0   Wind              23394 non-null  float64\n",
      " 1   Temp              23394 non-null  float64\n",
      " 2   Experienced Temp  23394 non-null  float64\n",
      " 3   Dew               23394 non-null  float64\n",
      " 4   RH                23394 non-null  float64\n",
      " 5   Pressure          23394 non-null  float64\n",
      " 6   dow               23394 non-null  int64  \n",
      " 7   Weather           23394 non-null  int64  \n",
      " 8   Hour_0            23394 non-null  uint8  \n",
      " 9   Hour_1            23394 non-null  uint8  \n",
      " 10  Hour_2            23394 non-null  uint8  \n",
      " 11  Hour_3            23394 non-null  uint8  \n",
      " 12  Hour_4            23394 non-null  uint8  \n",
      " 13  Hour_5            23394 non-null  uint8  \n",
      " 14  Hour_6            23394 non-null  uint8  \n",
      " 15  Hour_7            23394 non-null  uint8  \n",
      " 16  Hour_8            23394 non-null  uint8  \n",
      " 17  Hour_9            23394 non-null  uint8  \n",
      " 18  Hour_10           23394 non-null  uint8  \n",
      " 19  Hour_11           23394 non-null  uint8  \n",
      " 20  Hour_12           23394 non-null  uint8  \n",
      " 21  Hour_13           23394 non-null  uint8  \n",
      " 22  Hour_14           23394 non-null  uint8  \n",
      " 23  Hour_15           23394 non-null  uint8  \n",
      " 24  Hour_16           23394 non-null  uint8  \n",
      " 25  Hour_17           23394 non-null  uint8  \n",
      " 26  Hour_18           23394 non-null  uint8  \n",
      " 27  Hour_19           23394 non-null  uint8  \n",
      " 28  Hour_20           23394 non-null  uint8  \n",
      " 29  Hour_21           23394 non-null  uint8  \n",
      " 30  Hour_22           23394 non-null  uint8  \n",
      " 31  Hour_23           23394 non-null  uint8  \n",
      " 32  Month_1           23394 non-null  uint8  \n",
      " 33  Month_2           23394 non-null  uint8  \n",
      " 34  Month_3           23394 non-null  uint8  \n",
      " 35  Month_4           23394 non-null  uint8  \n",
      " 36  Month_5           23394 non-null  uint8  \n",
      " 37  Month_6           23394 non-null  uint8  \n",
      " 38  Month_7           23394 non-null  uint8  \n",
      " 39  Month_8           23394 non-null  uint8  \n",
      " 40  Month_9           23394 non-null  uint8  \n",
      " 41  Month_10          23394 non-null  uint8  \n",
      " 42  Month_11          23394 non-null  uint8  \n",
      " 43  Month_12          23394 non-null  uint8  \n",
      " 44  Wind Dir_1        23394 non-null  uint8  \n",
      " 45  Wind Dir_2        23394 non-null  uint8  \n",
      " 46  Wind Dir_3        23394 non-null  uint8  \n",
      " 47  Wind Dir_4        23394 non-null  uint8  \n",
      " 48  Wind Dir_5        23394 non-null  uint8  \n",
      "dtypes: float64(6), int64(2), uint8(41)\n",
      "memory usage: 3.1 MB\n"
     ]
    }
   ],
   "source": [
    "x_train.info()"
   ]
  },
  {
   "cell_type": "markdown",
   "metadata": {},
   "source": [
    "# Model Fitting\n",
    "In this section, we will be using linear regression model to predict ridership "
   ]
  },
  {
   "cell_type": "markdown",
   "metadata": {},
   "source": [
    "First defining the RMSE calculation"
   ]
  },
  {
   "cell_type": "code",
   "execution_count": 27,
   "metadata": {},
   "outputs": [],
   "source": [
    "def rmse(errors):\n",
    "    return np.sqrt(np.sum(errors ** 2)/len(errors))\n"
   ]
  },
  {
   "cell_type": "markdown",
   "metadata": {},
   "source": [
    "## Constant RMSE\n",
    "Next, we will establish a baseline model to compare, which will be our constant RMSE "
   ]
  },
  {
   "cell_type": "code",
   "execution_count": 28,
   "metadata": {
    "scrolled": true
   },
   "outputs": [
    {
     "name": "stdout",
     "output_type": "stream",
     "text": [
      "299.9631980781993\n"
     ]
    }
   ],
   "source": [
    "constant_rmse = rmse(train['Trips'] - train['Trips'].mean())\n",
    "print(constant_rmse)"
   ]
  },
  {
   "cell_type": "markdown",
   "metadata": {},
   "source": [
    "## Simple RMSE\n",
    "Once a baseline is established, we will now create a simple model that predicts trips with only one variable."
   ]
  },
  {
   "cell_type": "code",
   "execution_count": 29,
   "metadata": {},
   "outputs": [],
   "source": [
    "x_train_simple, y_train_simple = process_data(train, None, ['Wind'], None, mandatory_fields, weather_avg)\n",
    "\n",
    "x_val_simple, y_val_simple = process_data(val, None, ['Wind'], None, mandatory_fields, weather_avg)"
   ]
  },
  {
   "cell_type": "code",
   "execution_count": 30,
   "metadata": {},
   "outputs": [
    {
     "name": "stdout",
     "output_type": "stream",
     "text": [
      "295.562436220705\n"
     ]
    }
   ],
   "source": [
    "from sklearn.linear_model import LinearRegression\n",
    "\n",
    "simple_model = LinearRegression(fit_intercept=True)\n",
    "\n",
    "simple_model.fit(x_train_simple, y_train_simple)\n",
    "y_predicted = simple_model.predict(x_val_simple)\n",
    "\n",
    "simple_rmse = rmse(y_predicted - y_val_simple)\n",
    "print(simple_rmse)"
   ]
  },
  {
   "cell_type": "markdown",
   "metadata": {},
   "source": [
    "Checking the estimated coefficient for the model, for this case there should be only one "
   ]
  },
  {
   "cell_type": "code",
   "execution_count": 31,
   "metadata": {
    "scrolled": true
   },
   "outputs": [
    {
     "data": {
      "text/html": [
       "<div>\n",
       "<style scoped>\n",
       "    .dataframe tbody tr th:only-of-type {\n",
       "        vertical-align: middle;\n",
       "    }\n",
       "\n",
       "    .dataframe tbody tr th {\n",
       "        vertical-align: top;\n",
       "    }\n",
       "\n",
       "    .dataframe thead th {\n",
       "        text-align: right;\n",
       "    }\n",
       "</style>\n",
       "<table border=\"1\" class=\"dataframe\">\n",
       "  <thead>\n",
       "    <tr style=\"text-align: right;\">\n",
       "      <th></th>\n",
       "      <th>Coefficients</th>\n",
       "    </tr>\n",
       "  </thead>\n",
       "  <tbody>\n",
       "    <tr>\n",
       "      <th>Wind</th>\n",
       "      <td>-111.019515</td>\n",
       "    </tr>\n",
       "  </tbody>\n",
       "</table>\n",
       "</div>"
      ],
      "text/plain": [
       "      Coefficients\n",
       "Wind   -111.019515"
      ]
     },
     "execution_count": 31,
     "metadata": {},
     "output_type": "execute_result"
    }
   ],
   "source": [
    "cdf = pd.DataFrame(simple_model.coef_, x_train_simple.columns, columns=['Coefficients'])\n",
    "cdf"
   ]
  },
  {
   "cell_type": "markdown",
   "metadata": {},
   "source": [
    "We can see that there is a slight improvement for the RMSE but still not ideal"
   ]
  },
  {
   "cell_type": "markdown",
   "metadata": {},
   "source": [
    "## Linear RMSE\n",
    "Now we will derive a linear regression model using all the features provided above "
   ]
  },
  {
   "cell_type": "code",
   "execution_count": 32,
   "metadata": {},
   "outputs": [],
   "source": [
    "x_train, y_train = process_data(train, ['Hour', 'Month', 'Wind Dir'], \n",
    "                                ['Wind','Temp', 'Experienced Temp', 'Dew', 'RH', 'Pressure'], ['dow', 'Weather'],\n",
    "                               mandatory_fields, weather_avg)\n",
    "\n",
    "x_val, y_val = process_data(val, ['Hour', 'Month', 'Wind Dir'], \n",
    "                                ['Wind','Temp', 'Experienced Temp', 'Dew', 'RH', 'Pressure'], ['dow', 'Weather'],\n",
    "                               mandatory_fields, weather_avg)"
   ]
  },
  {
   "cell_type": "code",
   "execution_count": 33,
   "metadata": {},
   "outputs": [
    {
     "name": "stdout",
     "output_type": "stream",
     "text": [
      "209.30052557212764\n"
     ]
    }
   ],
   "source": [
    "linear_model = LinearRegression(fit_intercept=True)\n",
    "\n",
    "linear_model.fit(x_train, y_train)\n",
    "\n",
    "y_predicted = linear_model.predict(x_val)\n",
    "\n",
    "linear_rmse = rmse(y_predicted - y_val)\n",
    "print(linear_rmse)"
   ]
  },
  {
   "cell_type": "code",
   "execution_count": 34,
   "metadata": {},
   "outputs": [
    {
     "data": {
      "text/html": [
       "<div>\n",
       "<style scoped>\n",
       "    .dataframe tbody tr th:only-of-type {\n",
       "        vertical-align: middle;\n",
       "    }\n",
       "\n",
       "    .dataframe tbody tr th {\n",
       "        vertical-align: top;\n",
       "    }\n",
       "\n",
       "    .dataframe thead th {\n",
       "        text-align: right;\n",
       "    }\n",
       "</style>\n",
       "<table border=\"1\" class=\"dataframe\">\n",
       "  <thead>\n",
       "    <tr style=\"text-align: right;\">\n",
       "      <th></th>\n",
       "      <th>Wind</th>\n",
       "      <th>Temp</th>\n",
       "      <th>Experienced Temp</th>\n",
       "      <th>Dew</th>\n",
       "      <th>RH</th>\n",
       "      <th>Pressure</th>\n",
       "      <th>dow</th>\n",
       "      <th>Weather</th>\n",
       "      <th>Hour_0</th>\n",
       "      <th>Hour_1</th>\n",
       "      <th>...</th>\n",
       "      <th>Month_8</th>\n",
       "      <th>Month_9</th>\n",
       "      <th>Month_10</th>\n",
       "      <th>Month_11</th>\n",
       "      <th>Month_12</th>\n",
       "      <th>Wind Dir_1</th>\n",
       "      <th>Wind Dir_2</th>\n",
       "      <th>Wind Dir_3</th>\n",
       "      <th>Wind Dir_4</th>\n",
       "      <th>Wind Dir_5</th>\n",
       "    </tr>\n",
       "  </thead>\n",
       "  <tbody>\n",
       "    <tr>\n",
       "      <th>Coefficients</th>\n",
       "      <td>-73.655115</td>\n",
       "      <td>615.149967</td>\n",
       "      <td>-394.659001</td>\n",
       "      <td>262.450563</td>\n",
       "      <td>-232.21729</td>\n",
       "      <td>28.72028</td>\n",
       "      <td>-113.696532</td>\n",
       "      <td>-40.651597</td>\n",
       "      <td>-2.124184e+13</td>\n",
       "      <td>-2.124184e+13</td>\n",
       "      <td>...</td>\n",
       "      <td>-2.159212e+14</td>\n",
       "      <td>-2.159212e+14</td>\n",
       "      <td>-2.159212e+14</td>\n",
       "      <td>-2.159212e+14</td>\n",
       "      <td>-2.159212e+14</td>\n",
       "      <td>-3.012055e+14</td>\n",
       "      <td>-3.012055e+14</td>\n",
       "      <td>-3.012055e+14</td>\n",
       "      <td>-3.012055e+14</td>\n",
       "      <td>-3.012055e+14</td>\n",
       "    </tr>\n",
       "  </tbody>\n",
       "</table>\n",
       "<p>1 rows × 49 columns</p>\n",
       "</div>"
      ],
      "text/plain": [
       "                   Wind        Temp  Experienced Temp         Dew         RH  \\\n",
       "Coefficients -73.655115  615.149967       -394.659001  262.450563 -232.21729   \n",
       "\n",
       "              Pressure         dow    Weather        Hour_0        Hour_1  \\\n",
       "Coefficients  28.72028 -113.696532 -40.651597 -2.124184e+13 -2.124184e+13   \n",
       "\n",
       "              ...       Month_8       Month_9      Month_10      Month_11  \\\n",
       "Coefficients  ... -2.159212e+14 -2.159212e+14 -2.159212e+14 -2.159212e+14   \n",
       "\n",
       "                  Month_12    Wind Dir_1    Wind Dir_2    Wind Dir_3  \\\n",
       "Coefficients -2.159212e+14 -3.012055e+14 -3.012055e+14 -3.012055e+14   \n",
       "\n",
       "                Wind Dir_4    Wind Dir_5  \n",
       "Coefficients -3.012055e+14 -3.012055e+14  \n",
       "\n",
       "[1 rows x 49 columns]"
      ]
     },
     "execution_count": 34,
     "metadata": {},
     "output_type": "execute_result"
    }
   ],
   "source": [
    "cdf = pd.DataFrame(linear_model.coef_, x_train.columns, columns=['Coefficients'])\n",
    "cdf.transpose()"
   ]
  },
  {
   "cell_type": "code",
   "execution_count": 35,
   "metadata": {},
   "outputs": [
    {
     "data": {
      "text/plain": [
       "array([[<AxesSubplot:title={'center':'0'}>]], dtype=object)"
      ]
     },
     "execution_count": 35,
     "metadata": {},
     "output_type": "execute_result"
    },
    {
     "data": {
      "image/png": "[encoded data removed]",
      "text/plain": [
       "<Figure size 432x288 with 1 Axes>"
      ]
     },
     "metadata": {
      "needs_background": "light"
     },
     "output_type": "display_data"
    }
   ],
   "source": [
    "pd.DataFrame(y_predicted).hist()"
   ]
  },
  {
   "cell_type": "markdown",
   "metadata": {},
   "source": [
    " By applying all the features listed above, we can see that the model has improved significantly, however, from the distribution we can see that some of the y_predicted have negative value, meaning negative trips which does not make sense that needs to be excluded from the model calculation. We'll set all negative values to 0 after the model has made the predictions to make it more useful to our client."
   ]
  },
  {
   "cell_type": "markdown",
   "metadata": {},
   "source": [
    "## Setting Negative Values to 0"
   ]
  },
  {
   "cell_type": "code",
   "execution_count": 36,
   "metadata": {},
   "outputs": [
    {
     "name": "stdout",
     "output_type": "stream",
     "text": [
      "207.02825641774672\n"
     ]
    }
   ],
   "source": [
    "linear_rmse = rmse(np.where(y_predicted<0, 0, y_predicted) - y_val)\n",
    "print(linear_rmse)"
   ]
  },
  {
   "cell_type": "markdown",
   "metadata": {},
   "source": [
    "## Time Series Cross Validation"
   ]
  },
  {
   "cell_type": "markdown",
   "metadata": {},
   "source": [
    "In this section, since the dataset is time sensitive, we will use time series cross validation to our model, using both the simple model as well as the linear model"
   ]
  },
  {
   "cell_type": "code",
   "execution_count": 37,
   "metadata": {},
   "outputs": [],
   "source": [
    "trips_agg = aggregate_trips(trips)\n",
    "\n",
    "train, test = train_test_split(trips_agg, train_size=0.7, \n",
    "                               test_size=0.3, random_state=0)\n",
    "\n",
    "x_train, y_train = process_data(train, ['Hour', 'Month', 'Wind Dir'], \n",
    "                                ['Wind','Temp', 'Experienced Temp', 'Dew', 'RH', 'Pressure'], ['dow', 'Weather'],\n",
    "                               mandatory_fields, weather_avg)"
   ]
  },
  {
   "cell_type": "code",
   "execution_count": 38,
   "metadata": {},
   "outputs": [],
   "source": [
    "from sklearn.model_selection import TimeSeriesSplit\n",
    "from sklearn.base import clone"
   ]
  },
  {
   "cell_type": "code",
   "execution_count": 39,
   "metadata": {},
   "outputs": [],
   "source": [
    "def cross_validate_rmse(model, X, y):\n",
    "     \n",
    "    # Setup\n",
    "    model = clone(model)\n",
    "    time_split = TimeSeriesSplit(n_splits=12) \n",
    "    rmse_values = []\n",
    "    \n",
    "    for train_index, val_index in time_split.split(X):\n",
    "                \n",
    "        X_train, X_val = X.iloc[train_index], X.iloc[val_index]\n",
    "        y_train, y_val = y.iloc[train_index], y.iloc[val_index]\n",
    "        \n",
    "        \n",
    "        model.fit(X_train, y_train)\n",
    "        y_predicted = model.predict(X_val)   \n",
    "        \n",
    "        \n",
    "        rmse_values.append(rmse(np.where(y_predicted<0, 0, y_predicted) - y_val))\n",
    "        \n",
    "    return rmse_values"
   ]
  },
  {
   "cell_type": "markdown",
   "metadata": {},
   "source": [
    "Next linear model is used "
   ]
  },
  {
   "cell_type": "code",
   "execution_count": 40,
   "metadata": {
    "scrolled": false
   },
   "outputs": [
    {
     "name": "stdout",
     "output_type": "stream",
     "text": [
      "Cross-validation Linear RMSE scores: [218.50727430583567, 211.1856642209892, 207.20970664472554, 216.78307671555922, 202.7110443580722, 214.4568026070633, 215.03544094758487, 214.3124618289006, 213.6660359057456, 195.82983847925158, 220.3031178396028, 205.31350403284958]\n",
      "Cross-validation Linear RMSE scores mean: 211.27616399051502\n",
      "Cross-validation Linear RMSE scores std: 6.875851359243329\n"
     ]
    }
   ],
   "source": [
    "linear_rmse_cv = cross_validate_rmse(model=LinearRegression(fit_intercept=True), X=x_train, y=y_train)\n",
    "print('Cross-validation Linear RMSE scores: {}'.format(linear_rmse_cv))\n",
    "print('Cross-validation Linear RMSE scores mean: {}'.format(np.mean(linear_rmse_cv)))\n",
    "print('Cross-validation Linear RMSE scores std: {}'.format(np.std(linear_rmse_cv)))"
   ]
  },
  {
   "cell_type": "markdown",
   "metadata": {},
   "source": [
    "The RMSE score from time series cross validation also confirms that our linear model performs well with an mean score of 211, we will use this to apply to our test dataset  "
   ]
  },
  {
   "cell_type": "markdown",
   "metadata": {},
   "source": [
    "## Feature Selection"
   ]
  },
  {
   "cell_type": "markdown",
   "metadata": {},
   "source": [
    "If we want to only choose a limited feature set, and avoid incorporating features that tell the same information, or are not useful to the model (since they will imply meaning when it actually doesn't), we'll use the `SelectKBest` function, along with the chi squared indicator to select k statistically significant features. We will do this inside of our cross validation loop."
   ]
  },
  {
   "cell_type": "code",
   "execution_count": 41,
   "metadata": {},
   "outputs": [],
   "source": [
    "from sklearn.feature_selection import SelectKBest, chi2"
   ]
  },
  {
   "cell_type": "code",
   "execution_count": 42,
   "metadata": {},
   "outputs": [],
   "source": [
    "def cross_validate_feature_selection_rmse(model, X, y, n):    \n",
    "    \n",
    "    # Setup\n",
    "    model = clone(model)\n",
    "    time_split = TimeSeriesSplit(n_splits=12) \n",
    "    rmse_values = []\n",
    "    \n",
    "    \n",
    "    for train_index, val_index in time_split.split(X):\n",
    "        \n",
    "        select = SelectKBest(chi2, k = n).fit(X.iloc[train_index,:], y.iloc[train_index])\n",
    "        \n",
    "        X_new = pd.DataFrame(X.iloc[:, select.get_support()])\n",
    "        \n",
    "        model.fit(X_new.iloc[train_index, :], y.iloc[train_index])\n",
    "        y_predicted = model.predict(X_new.iloc[val_index,:])   \n",
    "        \n",
    "        \n",
    "        rmse_values.append(rmse(np.where(y_predicted<0, 0, y_predicted) - y.iloc[val_index]))\n",
    "        \n",
    "    return rmse_values"
   ]
  },
  {
   "cell_type": "markdown",
   "metadata": {},
   "source": [
    "This is a very simple model, so it's not computationally heavy to iterate through all possible values of k, to see the best number."
   ]
  },
  {
   "cell_type": "code",
   "execution_count": 43,
   "metadata": {},
   "outputs": [],
   "source": [
    "l = []\n",
    "for n in range(1,49,1):\n",
    "    linear_rmse_cv = cross_validate_feature_selection_rmse(LinearRegression(), x_train, y_train, n)\n",
    "    l.append([n, np.mean(linear_rmse_cv)])"
   ]
  },
  {
   "cell_type": "code",
   "execution_count": 44,
   "metadata": {
    "scrolled": false
   },
   "outputs": [
    {
     "data": {
      "image/png": "[encoded data removed]",
      "text/plain": [
       "<Figure size 1152x432 with 1 Axes>"
      ]
     },
     "metadata": {
      "needs_background": "light"
     },
     "output_type": "display_data"
    }
   ],
   "source": [
    "import seaborn as sns\n",
    "from matplotlib import pyplot as plt\n",
    "\n",
    "fig, ax = plt.subplots(figsize=[16,6])\n",
    "\n",
    "sns.lineplot(data = pd.DataFrame(l, columns = ['N Parameters', 'RMSE']), x = 'N Parameters', y = 'RMSE', ax = ax)\n",
    "\n",
    "ax.set_xticks(range(49))\n",
    "ax.set_xlim([1,48])\n",
    "\n",
    "plt.show()"
   ]
  },
  {
   "cell_type": "markdown",
   "metadata": {},
   "source": [
    "From the chart above, we can see 44 features seems like the optimal amount of features, beyond that is diminishing rewards."
   ]
  },
  {
   "cell_type": "code",
   "execution_count": 45,
   "metadata": {},
   "outputs": [],
   "source": [
    "from collections import Counter\n",
    "import itertools"
   ]
  },
  {
   "cell_type": "markdown",
   "metadata": {},
   "source": [
    "# Final Model Output"
   ]
  },
  {
   "cell_type": "code",
   "execution_count": 95,
   "metadata": {},
   "outputs": [],
   "source": [
    "def final_model(model, X, y):    \n",
    "    \n",
    "    # Setup\n",
    "    model = clone(model)\n",
    "    time_split = TimeSeriesSplit(n_splits=12) \n",
    "    rmse_values = []\n",
    "    list_features = []\n",
    "    \n",
    "    for train_index, val_index in time_split.split(X):\n",
    "        \n",
    "        select = SelectKBest(chi2, k = 44).fit(X.iloc[train_index,:], y.iloc[train_index])\n",
    "        \n",
    "        X_new = pd.DataFrame(X.iloc[:, select.get_support()])\n",
    "        \n",
    "        model.fit(X_new.iloc[train_index, :], y.iloc[train_index])\n",
    "        y_predicted = model.predict(X_new.iloc[val_index,:])   \n",
    "        \n",
    "        \n",
    "        rmse_values.append(rmse(np.where(y_predicted<0, 0, y_predicted) - y.iloc[val_index]))\n",
    "        \n",
    "        list_features.append(X_new.columns.to_list())\n",
    "        \n",
    "    flattened_list = list(itertools.chain(*list_features))\n",
    "    \n",
    "    chosen_fields = select.get_support()\n",
    "    return rmse_values, flattened_list, chosen_fields, model"
   ]
  },
  {
   "cell_type": "code",
   "execution_count": 96,
   "metadata": {},
   "outputs": [
    {
     "name": "stdout",
     "output_type": "stream",
     "text": [
      "212.5382746632715\n"
     ]
    },
    {
     "data": {
      "text/plain": [
       "Counter({'Temp': 12,\n",
       "         'dow': 12,\n",
       "         'Weather': 12,\n",
       "         'Hour_0': 12,\n",
       "         'Hour_1': 12,\n",
       "         'Hour_2': 12,\n",
       "         'Hour_3': 12,\n",
       "         'Hour_4': 12,\n",
       "         'Hour_5': 12,\n",
       "         'Hour_6': 12,\n",
       "         'Hour_7': 12,\n",
       "         'Hour_8': 12,\n",
       "         'Hour_9': 12,\n",
       "         'Hour_10': 12,\n",
       "         'Hour_11': 12,\n",
       "         'Hour_12': 12,\n",
       "         'Hour_13': 12,\n",
       "         'Hour_14': 12,\n",
       "         'Hour_15': 12,\n",
       "         'Hour_16': 12,\n",
       "         'Hour_17': 12,\n",
       "         'Hour_18': 12,\n",
       "         'Hour_19': 12,\n",
       "         'Hour_20': 12,\n",
       "         'Hour_21': 12,\n",
       "         'Hour_22': 12,\n",
       "         'Hour_23': 12,\n",
       "         'Month_1': 12,\n",
       "         'Month_2': 12,\n",
       "         'Month_3': 12,\n",
       "         'Month_4': 12,\n",
       "         'Month_5': 12,\n",
       "         'Month_6': 12,\n",
       "         'Month_7': 12,\n",
       "         'Month_8': 12,\n",
       "         'Month_9': 12,\n",
       "         'Month_10': 12,\n",
       "         'Month_11': 12,\n",
       "         'Month_12': 12,\n",
       "         'Wind Dir_1': 12,\n",
       "         'Wind Dir_2': 12,\n",
       "         'Wind Dir_3': 12,\n",
       "         'Wind Dir_4': 12,\n",
       "         'Wind Dir_5': 12})"
      ]
     },
     "execution_count": 96,
     "metadata": {},
     "output_type": "execute_result"
    }
   ],
   "source": [
    "rmse_values, list_params, chosen_fields, model= final_model(LinearRegression(fit_intercept = True), x_train, y_train)\n",
    "\n",
    "print(np.mean(rmse_values))\n",
    "Counter(list_params)"
   ]
  },
  {
   "cell_type": "markdown",
   "metadata": {},
   "source": [
    "The final parameters our process has chosen contains all 12 months, all 24 hours, wind direction, temperature, whether its a weekday or weekend/holiday, and whether there is precipitation at that hour. In feature selection combined with cross validation, we would normally choose whatever features has the most votes, but all 44 of our features received all votes for all cross validation steps (shown through counting the number of times a feature appears in our chosen features list).\n",
    "\n",
    "We decided not to do hyper-parameter tuning since we stuck to our linear regression model, which only 1 hyper-parameter that we could manipulate (`fit-intercept`). "
   ]
  },
  {
   "cell_type": "markdown",
   "metadata": {},
   "source": [
    "#### Why Wind Direction and not Wind Speed?\n",
    "\n",
    "Wind direction tells information about both speed and direction, since no wind direction implies a calm wind. In our data exploration, we saw a lot more east west travel (especially on the Martin Goodman Trail), so an east/west head/tailwind would impact ridership more than a north/south wind."
   ]
  },
  {
   "cell_type": "markdown",
   "metadata": {},
   "source": [
    "# Test Dataset "
   ]
  },
  {
   "cell_type": "markdown",
   "metadata": {},
   "source": [
    "Applying the model to test dataset as well as RMSE calculation with cross validation"
   ]
  },
  {
   "cell_type": "code",
   "execution_count": 97,
   "metadata": {},
   "outputs": [],
   "source": [
    "x_test, y_test = process_data(test, ['Hour', 'Month', 'Wind Dir'], \n",
    "                                ['Wind','Temp', 'Experienced Temp', 'Dew', 'RH', 'Pressure'], ['dow', 'Weather'],\n",
    "                               mandatory_fields, weather_avg)"
   ]
  },
  {
   "cell_type": "code",
   "execution_count": 98,
   "metadata": {
    "scrolled": true
   },
   "outputs": [
    {
     "name": "stdout",
     "output_type": "stream",
     "text": [
      "The test dataset RMSE is: 210.19738891561695\n"
     ]
    }
   ],
   "source": [
    "y_predicted = model.predict(x_test.iloc[:, chosen_fields])   \n",
    "rmse_test = rmse(np.where(y_predicted<0, 0, y_predicted) - y_test)\n",
    "\n",
    "print('The test dataset RMSE is: ' + str(rmse_test))"
   ]
  },
  {
   "cell_type": "markdown",
   "metadata": {},
   "source": [
    "# Model Evaluation - Residual Plot\n",
    "In order to evaluate the predictions of the model, residual plot is used on the test dataset "
   ]
  },
  {
   "cell_type": "markdown",
   "metadata": {},
   "source": [
    "First a scatter plot is used to compare residual datapoint, which is subtrating test with predicted outcome, and test dataset"
   ]
  },
  {
   "cell_type": "code",
   "execution_count": 120,
   "metadata": {
    "scrolled": true
   },
   "outputs": [
    {
     "data": {
      "text/plain": [
       "4437    -150.03125\n",
       "12565    -92.65625\n",
       "26057     50.28125\n",
       "6866      74.21875\n",
       "9689    -119.34375\n",
       "           ...    \n",
       "1182      -1.46875\n",
       "22419    -97.71875\n",
       "25131     87.90625\n",
       "3976    -284.53125\n",
       "26621      9.15625\n",
       "Name: Trips, Length: 10027, dtype: float64"
      ]
     },
     "execution_count": 120,
     "metadata": {},
     "output_type": "execute_result"
    }
   ],
   "source": [
    "residual = y_test - y_predicted\n",
    "residual"
   ]
  },
  {
   "cell_type": "code",
   "execution_count": 123,
   "metadata": {
    "scrolled": true
   },
   "outputs": [
    {
     "data": {
      "image/png": "[encoded data removed]",
      "text/plain": [
       "<Figure size 576x396 with 1 Axes>"
      ]
     },
     "metadata": {},
     "output_type": "display_data"
    }
   ],
   "source": [
    "plt.scatter(y_test,residual)\n",
    "plt.xlabel(\"y_test\")\n",
    "plt.ylabel(\"residual\")\n",
    "plt.show()"
   ]
  },
  {
   "cell_type": "code",
   "execution_count": 127,
   "metadata": {
    "scrolled": true
   },
   "outputs": [
    {
     "data": {
      "text/plain": [
       "<AxesSubplot:xlabel='Trips', ylabel='Trips'>"
      ]
     },
     "execution_count": 127,
     "metadata": {},
     "output_type": "execute_result"
    },
    {
     "data": {
      "image/png": "[encoded data removed]",
      "text/plain": [
       "<Figure size 576x396 with 1 Axes>"
      ]
     },
     "metadata": {},
     "output_type": "display_data"
    }
   ],
   "source": [
    "import seaborn as sns\n",
    "sns.residplot(x=y_test, y=residual, lowess=True)"
   ]
  },
  {
   "cell_type": "markdown",
   "metadata": {},
   "source": [
    "Recognize that we are underpredicting higher ridership "
   ]
  },
  {
   "cell_type": "markdown",
   "metadata": {},
   "source": [
    "Now we will also plot residuals for the linear model "
   ]
  },
  {
   "cell_type": "code",
   "execution_count": 76,
   "metadata": {},
   "outputs": [],
   "source": [
    "import matplotlib.pyplot as plt\n",
    "import statsmodels.api as sm\n",
    "from statsmodels.formula.api import ols"
   ]
  },
  {
   "cell_type": "code",
   "execution_count": 77,
   "metadata": {},
   "outputs": [
    {
     "name": "stdout",
     "output_type": "stream",
     "text": [
      "Requirement already satisfied: yellowbrick in /Users/jimzhang/opt/anaconda3/lib/python3.8/site-packages (1.3.post1)\n",
      "Requirement already satisfied: scikit-learn>=0.20 in /Users/jimzhang/opt/anaconda3/lib/python3.8/site-packages (from yellowbrick) (0.23.2)\n",
      "Requirement already satisfied: matplotlib!=3.0.0,>=2.0.2 in /Users/jimzhang/opt/anaconda3/lib/python3.8/site-packages (from yellowbrick) (3.3.2)\n",
      "Requirement already satisfied: cycler>=0.10.0 in /Users/jimzhang/opt/anaconda3/lib/python3.8/site-packages (from yellowbrick) (0.10.0)\n",
      "Requirement already satisfied: scipy>=1.0.0 in /Users/jimzhang/opt/anaconda3/lib/python3.8/site-packages (from yellowbrick) (1.5.2)\n",
      "Requirement already satisfied: numpy<1.20,>=1.16.0 in /Users/jimzhang/opt/anaconda3/lib/python3.8/site-packages (from yellowbrick) (1.19.2)\n",
      "Requirement already satisfied: threadpoolctl>=2.0.0 in /Users/jimzhang/opt/anaconda3/lib/python3.8/site-packages (from scikit-learn>=0.20->yellowbrick) (2.1.0)\n",
      "Requirement already satisfied: joblib>=0.11 in /Users/jimzhang/opt/anaconda3/lib/python3.8/site-packages (from scikit-learn>=0.20->yellowbrick) (0.17.0)\n",
      "Requirement already satisfied: python-dateutil>=2.1 in /Users/jimzhang/opt/anaconda3/lib/python3.8/site-packages (from matplotlib!=3.0.0,>=2.0.2->yellowbrick) (2.8.1)\n",
      "Requirement already satisfied: pyparsing!=2.0.4,!=2.1.2,!=2.1.6,>=2.0.3 in /Users/jimzhang/opt/anaconda3/lib/python3.8/site-packages (from matplotlib!=3.0.0,>=2.0.2->yellowbrick) (2.4.7)\n",
      "Requirement already satisfied: pillow>=6.2.0 in /Users/jimzhang/opt/anaconda3/lib/python3.8/site-packages (from matplotlib!=3.0.0,>=2.0.2->yellowbrick) (8.0.1)\n",
      "Requirement already satisfied: certifi>=2020.06.20 in /Users/jimzhang/opt/anaconda3/lib/python3.8/site-packages (from matplotlib!=3.0.0,>=2.0.2->yellowbrick) (2020.6.20)\n",
      "Requirement already satisfied: kiwisolver>=1.0.1 in /Users/jimzhang/opt/anaconda3/lib/python3.8/site-packages (from matplotlib!=3.0.0,>=2.0.2->yellowbrick) (1.3.0)\n",
      "Requirement already satisfied: six in /Users/jimzhang/opt/anaconda3/lib/python3.8/site-packages (from cycler>=0.10.0->yellowbrick) (1.15.0)\n"
     ]
    }
   ],
   "source": [
    "! pip install yellowbrick"
   ]
  },
  {
   "cell_type": "code",
   "execution_count": 84,
   "metadata": {},
   "outputs": [],
   "source": [
    "from yellowbrick.datasets import load_concrete\n",
    "from yellowbrick.regressor import ResidualsPlot"
   ]
  },
  {
   "cell_type": "code",
   "execution_count": 150,
   "metadata": {},
   "outputs": [
    {
     "data": {
      "image/png": "[encoded data removed]",
      "text/plain": [
       "<Figure size 576x396 with 2 Axes>"
      ]
     },
     "metadata": {},
     "output_type": "display_data"
    },
    {
     "data": {
      "text/plain": [
       "<AxesSubplot:title={'center':'Residuals for LinearRegression Model'}, xlabel='Predicted Value', ylabel='Residuals'>"
      ]
     },
     "execution_count": 150,
     "metadata": {},
     "output_type": "execute_result"
    }
   ],
   "source": [
    "model= LinearRegression(fit_intercept = True)\n",
    "visualizer = ResidualsPlot(model)\n",
    "\n",
    "visualizer.fit(x_train, y_train) \n",
    "visualizer.score(x_test, y_test)  \n",
    "visualizer.show()                "
   ]
  },
  {
   "cell_type": "code",
   "execution_count": 149,
   "metadata": {
    "scrolled": true
   },
   "outputs": [
    {
     "data": {
      "image/png": "[encoded data removed]",
      "text/plain": [
       "<Figure size 576x396 with 1 Axes>"
      ]
     },
     "metadata": {},
     "output_type": "display_data"
    },
    {
     "data": {
      "text/plain": [
       "<AxesSubplot:title={'center':'Prediction Error for LinearRegression'}, xlabel='$y$', ylabel='$\\\\hat{y}$'>"
      ]
     },
     "execution_count": 149,
     "metadata": {},
     "output_type": "execute_result"
    }
   ],
   "source": [
    "from yellowbrick.regressor import PredictionError\n",
    "model= LinearRegression(fit_intercept = True)\n",
    "visualizer = PredictionError(model)\n",
    "visualizer.fit(x_train, y_train) \n",
    "visualizer.score(x_test, y_test)  \n",
    "visualizer.show()   "
   ]
  },
  {
   "cell_type": "markdown",
   "metadata": {},
   "source": [
    "We can see that the overall performance of the linear regresion has a R squared value of approximately 0.5"
   ]
  }
 ],
 "metadata": {
  "kernelspec": {
   "display_name": "Python 3",
   "language": "python",
   "name": "python3"
  },
  "language_info": {
   "codemirror_mode": {
    "name": "ipython",
    "version": 3
   },
   "file_extension": ".py",
   "mimetype": "text/x-python",
   "name": "python",
   "nbconvert_exporter": "python",
   "pygments_lexer": "ipython3",
   "version": "3.8.5"
  }
 },
 "nbformat": 4,
 "nbformat_minor": 4
}
